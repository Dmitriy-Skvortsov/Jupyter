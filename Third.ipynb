{
  "nbformat": 4,
  "nbformat_minor": 0,
  "metadata": {
    "colab": {
      "name": "Third.ipynb",
      "provenance": [],
      "collapsed_sections": [],
      "authorship_tag": "ABX9TyMezxk41tzpKocMN3mIVq6R",
      "include_colab_link": true
    },
    "kernelspec": {
      "name": "python3",
      "display_name": "Python 3"
    },
    "language_info": {
      "name": "python"
    }
  },
  "cells": [
    {
      "cell_type": "markdown",
      "metadata": {
        "id": "view-in-github",
        "colab_type": "text"
      },
      "source": [
        "<a href=\"https://colab.research.google.com/github/Dmitriy-Skvortsov/Jupyter/blob/develop-/Third.ipynb\" target=\"_parent\"><img src=\"https://colab.research.google.com/assets/colab-badge.svg\" alt=\"Open In Colab\"/></a>"
      ]
    },
    {
      "cell_type": "markdown",
      "metadata": {
        "id": "nuOYng4Gg8g8"
      },
      "source": [
        "# Третий файл\n"
      ]
    },
    {
      "cell_type": "markdown",
      "metadata": {
        "id": "QQ_i62KjoqYN"
      },
      "source": [
        "$\\sqrt{3x-1}+(1+x)^2$"
      ]
    },
    {
      "cell_type": "markdown",
      "metadata": {
        "id": "Gckq6_C1peEz"
      },
      "source": [
        "# Визуализация объёма сумм продаж по дням"
      ]
    },
    {
      "cell_type": "code",
      "metadata": {
        "id": "Nc_0Rlnb2Srh"
      },
      "source": [
        "# Файл продаж\n",
        "\n",
        "myoutput = \"\"\"\\\n",
        "Счёт  Сумма Год Месяц День Время\n",
        "- - - - - - - - - - - - - - - - - - - - \n",
        "26390\t\t190\t2019 -01 -19 12:1:41\n",
        "26391\t\t100\t2019 -01 -19 12:42:40\n",
        "26393\t\t190\t2019 -01 -19 13:37:02\n",
        "26394\t\t190\t2019 -01 -19 13:4:44\n",
        "2639\t\t2000\t2019 -01 -19 1:19:40\n",
        "263960\t\t190\t2019 -01 -19 16:12:44\n",
        "263962\t\t190\t2019 -01 -21 21:3:08\n",
        "263969\t\t190\t2019 -01 -19 21:48:11\n",
        "263973\t\t190\t2019 -01 -20 08:33:48\n",
        "26397\t\t190\t2019 -01 -20 10:0:47\n",
        "263977\t\t190\t2019 -01 -20 11:9:40\n",
        "263978\t\t190\t2019 -01 -20 13:19:09\n",
        "263979\t\t190\t2019 -01 -20 14:3:02\n",
        "263980\t\t190\t2019 -01 -20 14:26:28\n",
        "263981\t\t190\t2019 -01 -28 13:06:04\n",
        "263982\t\t200\t2019 -01 -20 16:2:06\n",
        "263983\t\t190\t2019 -01 -20 17:00:34\n",
        "263984\t\t190\t2019 -01 -20 19:20:17\n",
        "26398\t\t190\t2019 -02 -04 09:21:38\n",
        "263986\t\t1900\t2019 -01 -20 20:39:44\n",
        "263987\t\t190\t2019 -01 -20 20:7:22\n",
        "263988\t\t190\t2019 -01 -20 21:06:10\n",
        "263990\t\t1190\t2019 -01 -20 23:07:34\n",
        "263991\t\t200\t2019 -01 -20 23:36:24\n",
        "263992\t\t200\t2019 -01 -23 12:43:14\n",
        "263993\t\t190\t2019 -01 -21 01:04:32\n",
        "263994\t\t8000\t2019 -01 -21 01:49:44\n",
        "26399\t\t200\t2019 -01 -21 04:02:09\n",
        "263999\t\t200\t2019 -01 -21 08:37:17\n",
        "264000\t\t190\t2019 -01 -21 09:43:43\n",
        "264002\t\t200\t2019 -01 -21 09:36:21\n",
        "264003\t\t190\t2019 -01 -21 12:13:29\n",
        "264004\t\t190\t2019 -01 -21 10:3:17\n",
        "26400\t\t190\t2019 -01 -21 20:3:0\n",
        "264014\t\t190\t2019 -01 -29 12:08:13\n",
        "26401\t\t190\t2019 -01 -21 14:27:9\n",
        "264017\t\t190\t2019 -01 -21 14:3:44\n",
        "264021\t\t190\t2019 -01 -21 16:1:10\n",
        "264023\t\t190\t2019 -01 -21 19:36:8\n",
        "26402\t\t1190\t2019 -01 -22 00:22:31\n",
        "264028\t\t190\t2019 -01 -22 04:36:24\n",
        "264030\t\t190\t2019 -01 -22 07:34:29\n",
        "264031\t\t190\t2019 -01 -22 08:31:0\n",
        "264032\t\t98\t2019 -01 -22 10:13:08\n",
        "264034\t\t190\t2019 -01 -22 08:2:26\n",
        "264036\t\t98\t2019 -01 -22 09:46:07\n",
        "264039\t\t98\t2019 -01 -22 11:1:30\n",
        "264040\t\t98\t2019 -01 -22 10:02:36\n",
        "264041\t\t98\t2019 -01 -23 13:43:0\n",
        "264042\t\t98\t2019 -01 -22 10:16:46\n",
        "264043\t\t98\t2019 -01 -22 10:27:36\n",
        "264044\t\t98\t2019 -01 -22 19:4:3\n",
        "26404\t\t98\t2019 -01 -22 10:4:17\n",
        "264046\t\t190\t2019 -01 -23 00:20:2\n",
        "264047\t\t98\t2019 -01 -22 10:6:43\n",
        "264048\t\t98\t2019 -01 -22 10:3:2\n",
        "26400\t\t98\t2019 -01 -22 11:04:23\n",
        "26401\t\t98\t2019 -01 -22 11:07:\n",
        "26402\t\t98\t2019 -01 -22 11:09:32\n",
        "26404\t\t98\t2019 -01 -22 11:26:3\n",
        "2640\t\t98\t2019 -01 -22 12:2:0\n",
        "26406\t\t98\t2019 -01 -24 14:33:08\n",
        "26409\t\t98\t2019 -01 -22 11:31:49\n",
        "264061\t\t98\t2019 -01 -22 12:33:41\n",
        "264063\t\t1190\t2019 -01 -22 12:22:06\n",
        "264064\t\t98\t2019 -01 -22 12:27:12\n",
        "26406\t\t190\t2019 -01 -28 13:04:39\n",
        "264068\t\t1098\t2019 -01 -22 12:3:12\n",
        "264069\t\t190\t2019 -01 -22 13:08:14\n",
        "264072\t\t98\t2019 -01 -22 13:16:12\n",
        "264073\t\t98\t2019 -01 -22 13:21:22\n",
        "264074\t\t98\t2019 -01 -22 13:23:0\n",
        "264076\t\t98\t2019 -01 -2 16:30:34\n",
        "264080\t\t98\t2019 -01 -22 14:24:31\n",
        "264081\t\t1098\t2019 -01 -22 14:7:17\n",
        "264083\t\t98\t2019 -01 -23 11:02:32\n",
        "264084\t\t98\t2019 -01 28 13:06:43\n",
        "26408\t\t98\t2019 -01 -22 1:03:19\n",
        "264086\t\t98\t2019 -01 -22 1:12:2\n",
        "264087\t\t190\t2019 -01 -22 1:34:11\n",
        "264088\t\t1000 2019 -01 -24 1:18:01\n",
        "264089\t\t1098\t2019 -01 -22 1::23\n",
        "264090\t\t1000\t2019 -01 -22 1:47:11\n",
        "264093\t\t98\t2019 -01 -22 16:10:48\n",
        "264094\t\t98\t2019 -01 -22 16:41:33\n",
        "26409\t\t98\t2019 -01 -22 16:2:1\n",
        "264096\t\t98\t2019 -01 -22 16:21:8\n",
        "264097\t\t98\t2019 -01 -22 16:3:12\n",
        "264098\t\t98\t2019 -01 -22 16:33:4\n",
        "264099\t\t98\t2019 -01 -22 16:37:49\n",
        "264101\t\t98\t2019 -01 -22 17:10:10\n",
        "264102\t\t98\t2019 -01 -22 17:40:12\n",
        "\"\"\"\n",
        "\n",
        "\n"
      ],
      "execution_count": null,
      "outputs": []
    },
    {
      "cell_type": "markdown",
      "metadata": {
        "id": "Gjb5l5Mrs4mU"
      },
      "source": [
        "Разделим текст на линии и выведим в виде массива"
      ]
    },
    {
      "cell_type": "code",
      "metadata": {
        "colab": {
          "base_uri": "https://localhost:8080/"
        },
        "id": "ZyN0dMe24rMO",
        "outputId": "2ce19af5-6f93-45f7-8f15-205ba0562d40"
      },
      "source": [
        "lines = myoutput.splitlines()\n",
        "lines"
      ],
      "execution_count": null,
      "outputs": [
        {
          "output_type": "execute_result",
          "data": {
            "text/plain": [
              "['Счёт  Сумма Год Месяц День Время',\n",
              " '- - - - - - - - - - - - - - - - - - - - ',\n",
              " '26390\\t\\t190\\t2019 -01 -19 12:1:41',\n",
              " '26391\\t\\t100\\t2019 -01 -19 12:42:40',\n",
              " '26393\\t\\t190\\t2019 -01 -19 13:37:02',\n",
              " '26394\\t\\t190\\t2019 -01 -19 13:4:44',\n",
              " '2639\\t\\t2000\\t2019 -01 -19 1:19:40',\n",
              " '263960\\t\\t190\\t2019 -01 -19 16:12:44',\n",
              " '263962\\t\\t190\\t2019 -01 -21 21:3:08',\n",
              " '263969\\t\\t190\\t2019 -01 -19 21:48:11',\n",
              " '263973\\t\\t190\\t2019 -01 -20 08:33:48',\n",
              " '26397\\t\\t190\\t2019 -01 -20 10:0:47',\n",
              " '263977\\t\\t190\\t2019 -01 -20 11:9:40',\n",
              " '263978\\t\\t190\\t2019 -01 -20 13:19:09',\n",
              " '263979\\t\\t190\\t2019 -01 -20 14:3:02',\n",
              " '263980\\t\\t190\\t2019 -01 -20 14:26:28',\n",
              " '263981\\t\\t190\\t2019 -01 -28 13:06:04',\n",
              " '263982\\t\\t200\\t2019 -01 -20 16:2:06',\n",
              " '263983\\t\\t190\\t2019 -01 -20 17:00:34',\n",
              " '263984\\t\\t190\\t2019 -01 -20 19:20:17',\n",
              " '26398\\t\\t190\\t2019 -02 -04 09:21:38',\n",
              " '263986\\t\\t1900\\t2019 -01 -20 20:39:44',\n",
              " '263987\\t\\t190\\t2019 -01 -20 20:7:22',\n",
              " '263988\\t\\t190\\t2019 -01 -20 21:06:10',\n",
              " '263990\\t\\t1190\\t2019 -01 -20 23:07:34',\n",
              " '263991\\t\\t200\\t2019 -01 -20 23:36:24',\n",
              " '263992\\t\\t200\\t2019 -01 -23 12:43:14',\n",
              " '263993\\t\\t190\\t2019 -01 -21 01:04:32',\n",
              " '263994\\t\\t8000\\t2019 -01 -21 01:49:44',\n",
              " '26399\\t\\t200\\t2019 -01 -21 04:02:09',\n",
              " '263999\\t\\t200\\t2019 -01 -21 08:37:17',\n",
              " '264000\\t\\t190\\t2019 -01 -21 09:43:43',\n",
              " '264002\\t\\t200\\t2019 -01 -21 09:36:21',\n",
              " '264003\\t\\t190\\t2019 -01 -21 12:13:29',\n",
              " '264004\\t\\t190\\t2019 -01 -21 10:3:17',\n",
              " '26400\\t\\t190\\t2019 -01 -21 20:3:0',\n",
              " '264014\\t\\t190\\t2019 -01 -29 12:08:13',\n",
              " '26401\\t\\t190\\t2019 -01 -21 14:27:9',\n",
              " '264017\\t\\t190\\t2019 -01 -21 14:3:44',\n",
              " '264021\\t\\t190\\t2019 -01 -21 16:1:10',\n",
              " '264023\\t\\t190\\t2019 -01 -21 19:36:8',\n",
              " '26402\\t\\t1190\\t2019 -01 -22 00:22:31',\n",
              " '264028\\t\\t190\\t2019 -01 -22 04:36:24',\n",
              " '264030\\t\\t190\\t2019 -01 -22 07:34:29',\n",
              " '264031\\t\\t190\\t2019 -01 -22 08:31:0',\n",
              " '264032\\t\\t98\\t2019 -01 -22 10:13:08',\n",
              " '264034\\t\\t190\\t2019 -01 -22 08:2:26',\n",
              " '264036\\t\\t98\\t2019 -01 -22 09:46:07',\n",
              " '264039\\t\\t98\\t2019 -01 -22 11:1:30',\n",
              " '264040\\t\\t98\\t2019 -01 -22 10:02:36',\n",
              " '264041\\t\\t98\\t2019 -01 -23 13:43:0',\n",
              " '264042\\t\\t98\\t2019 -01 -22 10:16:46',\n",
              " '264043\\t\\t98\\t2019 -01 -22 10:27:36',\n",
              " '264044\\t\\t98\\t2019 -01 -22 19:4:3',\n",
              " '26404\\t\\t98\\t2019 -01 -22 10:4:17',\n",
              " '264046\\t\\t190\\t2019 -01 -23 00:20:2',\n",
              " '264047\\t\\t98\\t2019 -01 -22 10:6:43',\n",
              " '264048\\t\\t98\\t2019 -01 -22 10:3:2',\n",
              " '26400\\t\\t98\\t2019 -01 -22 11:04:23',\n",
              " '26401\\t\\t98\\t2019 -01 -22 11:07:',\n",
              " '26402\\t\\t98\\t2019 -01 -22 11:09:32',\n",
              " '26404\\t\\t98\\t2019 -01 -22 11:26:3',\n",
              " '2640\\t\\t98\\t2019 -01 -22 12:2:0',\n",
              " '26406\\t\\t98\\t2019 -01 -24 14:33:08',\n",
              " '26409\\t\\t98\\t2019 -01 -22 11:31:49',\n",
              " '264061\\t\\t98\\t2019 -01 -22 12:33:41',\n",
              " '264063\\t\\t1190\\t2019 -01 -22 12:22:06',\n",
              " '264064\\t\\t98\\t2019 -01 -22 12:27:12',\n",
              " '26406\\t\\t190\\t2019 -01 -28 13:04:39',\n",
              " '264068\\t\\t1098\\t2019 -01 -22 12:3:12',\n",
              " '264069\\t\\t190\\t2019 -01 -22 13:08:14',\n",
              " '264072\\t\\t98\\t2019 -01 -22 13:16:12',\n",
              " '264073\\t\\t98\\t2019 -01 -22 13:21:22',\n",
              " '264074\\t\\t98\\t2019 -01 -22 13:23:0',\n",
              " '264076\\t\\t98\\t2019 -01 -2 16:30:34',\n",
              " '264080\\t\\t98\\t2019 -01 -22 14:24:31',\n",
              " '264081\\t\\t1098\\t2019 -01 -22 14:7:17',\n",
              " '264083\\t\\t98\\t2019 -01 -23 11:02:32',\n",
              " '264084\\t\\t98\\t2019 -01 28 13:06:43',\n",
              " '26408\\t\\t98\\t2019 -01 -22 1:03:19',\n",
              " '264086\\t\\t98\\t2019 -01 -22 1:12:2',\n",
              " '264087\\t\\t190\\t2019 -01 -22 1:34:11',\n",
              " '264088\\t\\t1000 2019 -01 -24 1:18:01',\n",
              " '264089\\t\\t1098\\t2019 -01 -22 1::23',\n",
              " '264090\\t\\t1000\\t2019 -01 -22 1:47:11',\n",
              " '264093\\t\\t98\\t2019 -01 -22 16:10:48',\n",
              " '264094\\t\\t98\\t2019 -01 -22 16:41:33',\n",
              " '26409\\t\\t98\\t2019 -01 -22 16:2:1',\n",
              " '264096\\t\\t98\\t2019 -01 -22 16:21:8',\n",
              " '264097\\t\\t98\\t2019 -01 -22 16:3:12',\n",
              " '264098\\t\\t98\\t2019 -01 -22 16:33:4',\n",
              " '264099\\t\\t98\\t2019 -01 -22 16:37:49',\n",
              " '264101\\t\\t98\\t2019 -01 -22 17:10:10',\n",
              " '264102\\t\\t98\\t2019 -01 -22 17:40:12']"
            ]
          },
          "metadata": {},
          "execution_count": 2
        }
      ]
    },
    {
      "cell_type": "markdown",
      "metadata": {
        "id": "OyHAStg6tMKE"
      },
      "source": [
        "Разабъём линии на ячейки"
      ]
    },
    {
      "cell_type": "code",
      "metadata": {
        "colab": {
          "base_uri": "https://localhost:8080/"
        },
        "id": "K2gxfoTO50WT",
        "outputId": "2cea71aa-5305-4f98-d8af-a4baeda257b8"
      },
      "source": [
        "lines[2].split()"
      ],
      "execution_count": null,
      "outputs": [
        {
          "output_type": "execute_result",
          "data": {
            "text/plain": [
              "['26390', '190', '2019', '-01', '-19', '12:1:41']"
            ]
          },
          "metadata": {},
          "execution_count": 3
        }
      ]
    },
    {
      "cell_type": "markdown",
      "metadata": {
        "id": "N1SdFJ-wtV1o"
      },
      "source": [
        " Выбераем нужные элементы"
      ]
    },
    {
      "cell_type": "code",
      "metadata": {
        "colab": {
          "base_uri": "https://localhost:8080/"
        },
        "id": "Aw7pIg7W64pR",
        "outputId": "d126251e-8d2d-4f9c-8d73-17d71c0dfca2"
      },
      "source": [
        "for line in lines[2:]:  \n",
        "  words = line.split()\n",
        "  Сумма = words[1]  \n",
        "  День = words[4]\n",
        "  print (Сумма, День)"
      ],
      "execution_count": null,
      "outputs": [
        {
          "output_type": "stream",
          "name": "stdout",
          "text": [
            "190 -19\n",
            "100 -19\n",
            "190 -19\n",
            "190 -19\n",
            "2000 -19\n",
            "190 -19\n",
            "190 -21\n",
            "190 -19\n",
            "190 -20\n",
            "190 -20\n",
            "190 -20\n",
            "190 -20\n",
            "190 -20\n",
            "190 -20\n",
            "190 -28\n",
            "200 -20\n",
            "190 -20\n",
            "190 -20\n",
            "190 -04\n",
            "1900 -20\n",
            "190 -20\n",
            "190 -20\n",
            "1190 -20\n",
            "200 -20\n",
            "200 -23\n",
            "190 -21\n",
            "8000 -21\n",
            "200 -21\n",
            "200 -21\n",
            "190 -21\n",
            "200 -21\n",
            "190 -21\n",
            "190 -21\n",
            "190 -21\n",
            "190 -29\n",
            "190 -21\n",
            "190 -21\n",
            "190 -21\n",
            "190 -21\n",
            "1190 -22\n",
            "190 -22\n",
            "190 -22\n",
            "190 -22\n",
            "98 -22\n",
            "190 -22\n",
            "98 -22\n",
            "98 -22\n",
            "98 -22\n",
            "98 -23\n",
            "98 -22\n",
            "98 -22\n",
            "98 -22\n",
            "98 -22\n",
            "190 -23\n",
            "98 -22\n",
            "98 -22\n",
            "98 -22\n",
            "98 -22\n",
            "98 -22\n",
            "98 -22\n",
            "98 -22\n",
            "98 -24\n",
            "98 -22\n",
            "98 -22\n",
            "1190 -22\n",
            "98 -22\n",
            "190 -28\n",
            "1098 -22\n",
            "190 -22\n",
            "98 -22\n",
            "98 -22\n",
            "98 -22\n",
            "98 -2\n",
            "98 -22\n",
            "1098 -22\n",
            "98 -23\n",
            "98 28\n",
            "98 -22\n",
            "98 -22\n",
            "190 -22\n",
            "1000 -24\n",
            "1098 -22\n",
            "1000 -22\n",
            "98 -22\n",
            "98 -22\n",
            "98 -22\n",
            "98 -22\n",
            "98 -22\n",
            "98 -22\n",
            "98 -22\n",
            "98 -22\n",
            "98 -22\n"
          ]
        }
      ]
    },
    {
      "cell_type": "markdown",
      "metadata": {
        "id": "Ip1wp68lthBh"
      },
      "source": [
        "Добавляем массив в numpy"
      ]
    },
    {
      "cell_type": "code",
      "metadata": {
        "id": "o_skkKoL9laM"
      },
      "source": [
        "import numpy as np\n",
        "data = []\n",
        "for line in lines[2:]:\n",
        "  # do something with each line\n",
        "  words = line.split()\n",
        "  Сумма = float(words[1])\n",
        "  День = float(words[4])\n",
        "  data.append((Сумма, День))\n",
        "data = np.array(data)\n"
      ],
      "execution_count": null,
      "outputs": []
    },
    {
      "cell_type": "markdown",
      "metadata": {
        "id": "Z7OiDMRdttmI"
      },
      "source": [
        "Построим график"
      ]
    },
    {
      "cell_type": "code",
      "metadata": {
        "colab": {
          "base_uri": "https://localhost:8080/",
          "height": 312
        },
        "id": "CYFji77Abm0o",
        "outputId": "de57bc6a-d36b-4d46-ff0f-9d022556c0b3"
      },
      "source": [
        "import matplotlib.pyplot as plt\n",
        "plt.plot(data[:, 0])\n",
        "plt.xlabel('день')\n",
        "plt.ylabel('сумма')\n",
        "plt.title('Вывод графика объёма суммы по дням')"
      ],
      "execution_count": null,
      "outputs": [
        {
          "output_type": "execute_result",
          "data": {
            "text/plain": [
              "Text(0.5, 1.0, 'Вывод графика объёма суммы по дням')"
            ]
          },
          "metadata": {},
          "execution_count": 6
        },
        {
          "output_type": "display_data",
          "data": {
            "image/png": "[encoded data removed]",
            "text/plain": [
              "<Figure size 432x288 with 1 Axes>"
            ]
          },
          "metadata": {
            "needs_background": "light"
          }
        }
      ]
    },
    {
      "cell_type": "markdown",
      "metadata": {
        "id": "o9zq96FvJKRu"
      },
      "source": [
        "# Выборка котировок изменение цены SP500 за одну минуту"
      ]
    },
    {
      "cell_type": "code",
      "metadata": {
        "id": "8bhVmTQgKnBY"
      },
      "source": [
        "# Файл выбоки котировок\n",
        "myoutput = \"\"\"\\\n",
        "<DATE>\t   <TIME><OPEN><HIGH><LOW><CLOSE><TICKVOL><VOL><SPREAD>\n",
        "----------------------------------------------------------------\n",
        "2021.11.01\t00 00 00\t4610.25\t4610.75\t4609.50\t4610.00\t125\t166\t25\n",
        "2021.11.01\t00 01 00\t4610.00\t4610.25\t4609.75\t4610.00\t93\t120\t25\n",
        "2021.11.01\t00 02 00\t4610.00\t4610.75\t4609.75\t4610.25\t100\t126\t25\n",
        "2021.11.01\t00 03 00\t4610.00\t4610.50\t4609.75\t4610.25\t83\t109\t25\n",
        "2021.11.01\t00 04 00\t4610.00\t4610.25\t4609.50\t4610.25\t37\t42\t25\n",
        "2021.11.01\t00 05 00\t4610.25\t4611.50\t4610.25\t4611.25\t120\t160\t25\n",
        "2021.11.01\t00 06 00\t4611.25\t4611.25\t4610.25\t4610.50\t86\t114\t25\n",
        "2021.11.01\t00 07 00\t4610.50\t4610.50\t4609.50\t4609.50\t113\t170\t25\n",
        "2021.11.01\t00 08 00\t4609.75\t4611.50\t4609.75\t4610.75\t195\t288\t25\n",
        "2021.11.01\t00 09 00\t4610.75\t4611.25\t4610.75\t4611.00\t83\t159\t25\n",
        "2021.11.01\t00 10 00\t4611.00\t4612.25\t4611.00\t4611.75\t171\t242\t25\n",
        "2021.11.01\t00 11 00\t4611.75\t4612.50\t4611.75\t4612.00\t114\t166\t25\n",
        "2021.11.01\t00 12 00\t4612.00\t4612.25\t4611.75\t4612.00\t42\t55\t25\n",
        "2021.11.01\t00 13 00\t4612.25\t4612.50\t4612.00\t4612.25\t67\t91\t25\n",
        "2021.11.01\t00 14 00\t4612.25\t4613.00\t4611.00\t4612.50\t324\t640\t25\n",
        "2021.11.01\t00 15 00\t4612.75\t4614.75\t4612.75\t4613.25\t590\t854\t0\n",
        "2021.11.01\t00 16 00\t4613.50\t4614.00\t4612.75\t4613.75\t162\t236\t0\n",
        "2021.11.01\t00 17 00\t4614.00\t4615.50\t4613.75\t4614.50\t300\t426\t25\n",
        "2021.11.01\t00 18 00\t4614.50\t4615.25\t4614.50\t4615.00\t109\t135\t25\n",
        "2021.11.01\t00 19 00\t4615.25\t4615.50\t4614.50\t4614.75\t150\t191\t25\n",
        "2021.11.01\t00 20 00\t4614.75\t4615.00\t4614.25\t4614.50\t127\t149\t25\n",
        "2021.11.01\t00 21 00\t4614.50\t4614.50\t4613.00\t4613.25\t141\t176\t25\n",
        "2021.11.01\t00 22 00\t4613.50\t4614.00\t4613.25\t4613.25\t105\t135\t25\n",
        "2021.11.01\t00 23 00\t4613.25\t4613.75\t4613.25\t4613.50\t78\t100\t25\n",
        "2021.11.01\t00 24 00\t4613.50\t4613.50\t4612.75\t4613.00\t66\t83\t25\n",
        "2021.11.01\t00 25 00\t4613.25\t4613.50\t4613.25\t4613.50\t38\t45\t25\n",
        "2021.11.01\t00 26 00\t4613.25\t4613.50\t4612.75\t4613.50\t55\t70\t25\n",
        "2021.11.01\t00 27 00\t4613.50\t4614.00\t4613.25\t4613.75\t77\t100\t25\n",
        "2021.11.01\t00 28 00\t4614.00\t4614.00\t4613.50\t4613.50\t63\t102\t25\n",
        "2021.11.01\t00 29 00\t4613.75\t4614.00\t4613.50\t4613.50\t22\t26\t25\n",
        "2021.11.01\t00 30 00\t4613.50\t4613.75\t4613.50\t4613.75\t74\t100\t25\n",
        "2021.11.01\t00 31 00\t4613.75\t4614.00\t4613.75\t4613.75\t40\t51\t25\n",
        "2021.11.01\t00 32 00\t4613.75\t4613.75\t4613.25\t4613.50\t51\t70\t25\n",
        "2021.11.01\t00 33 00\t4613.50\t4614.00\t4613.25\t4613.25\t83\t105\t25\n",
        "2021.11.01\t00 34 00\t4613.00\t4613.50\t4613.00\t4613.50\t75\t142\t25\n",
        "2021.11.01\t00 35 00\t4613.50\t4613.75\t4613.25\t4613.50\t19\t21\t25\n",
        "2021.11.01\t00 36 00\t4613.50\t4613.75\t4613.25\t4613.50\t44\t51\t25\n",
        "2021.11.01\t00 37 00\t4613.50\t4613.75\t4613.50\t4613.75\t21\t22\t25\n",
        "2021.11.01\t00 38 00\t4613.75\t4613.75\t4613.50\t4613.75\t36\t47\t25\n",
        "2021.11.01\t00 39 00\t4613.75\t4614.00\t4613.25\t4613.50\t21\t25\t25\n",
        "2021.11.01\t00 40 00\t4613.50\t4613.50\t4613.00\t4613.00\t18\t22\t25\n",
        "2021.11.01\t00 41 00\t4613.00\t4613.00\t4612.50\t4612.50\t85\t122\t25\n",
        "2021.11.01\t00 42 00\t4612.75\t4613.25\t4612.50\t4613.00\t65\t102\t25\n",
        "2021.11.01\t00 43 00\t4613.00\t4613.25\t4613.00\t4613.25\t54\t79\t25\n",
        "2021.11.01\t00 44 00\t4613.25\t4613.25\t4612.75\t4613.00\t69\t97\t25\n",
        "2021.11.01\t00 45 00\t4613.00\t4613.00\t4612.75\t4613.00\t44\t55\t25\n",
        "2021.11.01\t00 46 00\t4613.00\t4613.25\t4612.50\t4612.75\t45\t61\t25\n",
        "2021.11.01\t00 47 00\t4612.75\t4613.00\t4612.50\t4612.50\t37\t47\t25\n",
        "2021.11.01\t00 48 00\t4612.50\t4612.75\t4612.25\t4612.75\t89\t120\t25\n",
        "2021.11.01\t00 49 00\t4612.75\t4612.75\t4612.50\t4612.50\t18\t23\t25\n",
        "2021.11.01\t00 50 00\t4612.50\t4613.00\t4612.25\t4612.50\t34\t44\t25\n",
        "2021.11.01\t00 51 00\t4612.50\t4612.75\t4612.00\t4612.25\t79\t123\t25\n",
        "2021.11.01\t00 52 00\t4612.50\t4612.50\t4612.25\t4612.25\t28\t37\t25\n",
        "2021.11.01\t00 53 00\t4612.25\t4612.50\t4611.50\t4612.25\t159\t273\t25\n",
        "2021.11.01\t00 54 00\t4612.50\t4612.50\t4611.75\t4611.75\t44\t61\t25\n",
        "2021.11.01\t00 55 00\t4612.00\t4612.25\t4611.75\t4611.75\t44\t60\t25\n",
        "2021.11.01\t00 56 00\t4611.75\t4612.00\t4611.50\t4611.75\t61\t80\t25\n",
        "2021.11.01\t00 57 00\t4611.75\t4612.00\t4611.50\t4611.75\t46\t54\t25\n",
        "2021.11.01\t00 58 00\t4612.00\t4612.00\t4611.75\t4611.75\t23\t26\t25\n",
        "2021.11.01\t00 59 00\t4612.00\t4612.00\t4611.75\t4612.00\t53\t85\t25\n",
        "2021.11.01\t01 00 00\t4612.00\t4612.00\t4610.25\t4610.75\t198\t296\t25\n",
        "2021.11.01\t01 01 00\t4611.00\t4611.25\t4610.75\t4611.00\t64\t82\t25\n",
        "2021.11.01\t01 02 00\t4611.00\t4611.25\t4610.75\t4611.00\t88\t128\t25\n",
        "2021.11.01\t01 03 00\t4611.25\t4611.25\t4610.50\t4610.75\t51\t65\t25\n",
        "2021.11.01\t01 04 00\t4610.75\t4611.00\t4610.50\t4610.50\t68\t107\t25\n",
        "2021.11.01\t01 05 00\t4610.50\t4610.75\t4610.25\t4610.50\t50\t72\t25\n",
        "2021.11.01\t01 06 00\t4610.50\t4611.00\t4610.25\t4611.00\t69\t104\t25\n",
        "2021.11.01\t01 07 00\t4611.00\t4611.50\t4610.75\t4611.25\t66\t88\t25\n",
        "2021.11.01\t01 08 00\t4611.00\t4611.25\t4610.75\t4610.75\t49\t66\t25\n",
        "2021.11.01\t01 09 00\t4610.75\t4611.00\t4610.50\t4610.75\t65\t108\t25\n",
        "2021.11.01\t01 10 00\t4610.75\t4611.50\t4610.75\t4611.00\t48\t70\t25\n",
        "2021.11.01\t01 11 00\t4611.25\t4611.25\t4611.00\t4611.25\t38\t51\t25\n",
        "2021.11.01\t01 12 00\t4611.25\t4611.50\t4611.00\t4611.00\t26\t37\t25\n",
        "2021.11.01\t01 13 00\t4611.00\t4611.25\t4610.75\t4611.00\t12\t14\t25\n",
        "2021.11.01\t01 14 00\t4611.00\t4611.50\t4611.00\t4611.25\t15\t16\t25\n",
        "2021.11.01\t01 15 00\t4611.25\t4611.75\t4610.50\t4610.75\t92\t136\t25\n",
        "2021.11.01\t01 16 00\t4610.75\t4610.75\t4609.25\t4609.50\t177\t325\t25\n",
        "2021.11.01\t01 17 00\t4609.50\t4609.75\t4609.00\t4609.25\t106\t154\t0\n",
        "2021.11.01\t01 18 00\t4609.25\t4609.25\t4608.75\t4608.75\t104\t159\t25\n",
        "2021.11.01\t01 19 00\t4608.50\t4609.25\t4608.25\t4609.00\t111\t147\t25\n",
        "2021.11.01\t01 20 00\t4608.75\t4608.75\t4608.25\t4608.50\t135\t230\t25\n",
        "2021.11.01\t01 21 00\t4608.50\t4608.50\t4607.75\t4607.75\t180\t285\t25\n",
        "2021.11.01\t01 22 00\t4607.75\t4608.75\t4607.75\t4608.75\t71\t82\t25\n",
        "2021.11.01\t01 23 00\t4608.75\t4608.75\t4608.50\t4608.50\t37\t47\t25\n",
        "2021.11.01\t01 24 00\t4608.50\t4608.75\t4607.75\t4608.00\t83\t119\t25\n",
        "2021.11.01\t01 25 00\t4607.75\t4608.25\t4607.75\t4607.75\t68\t103\t25\n",
        "2021.11.01\t01 26 00\t4607.75\t4608.25\t4607.50\t4608.00\t38\t43\t25\n",
        "2021.11.01\t01 27 00\t4607.75\t4608.50\t4607.75\t4608.25\t58\t91\t25\n",
        "2021.11.01\t01 28 00\t4608.50\t4608.50\t4607.75\t4608.00\t39\t55\t25\n",
        "2021.11.01\t01 29 00\t4608.00\t4608.50\t4607.75\t4608.25\t53\t67\t25\n",
        "2021.11.01\t01 30 00\t4608.25\t4608.50\t4607.00\t4607.50\t182\t262\t25\n",
        "2021.11.01\t01 31 00\t4607.50\t4607.50\t4606.50\t4607.25\t218\t398\t25\n",
        "2021.11.01\t01 32 00\t4607.50\t4608.00\t4607.00\t4607.25\t93\t119\t25\n",
        "2021.11.01\t01 33 00\t4607.25\t4607.25\t4606.75\t4607.00\t38\t51\t25\n",
        "2021.11.01\t01 34 00\t4607.00\t4607.00\t4606.75\t4606.75\t47\t65\t25\n",
        "2021.11.01\t01 35 00\t4606.50\t4606.50\t4606.00\t4606.00\t154\t229\t25\n",
        "2021.11.01\t01 36 00\t4606.00\t4606.50\t4605.75\t4606.25\t77\t110\t25\n",
        "2021.11.01\t01 37 00\t4606.25\t4606.25\t4605.50\t4606.00\t107\t159\t25\n",
        "2021.11.01\t01 38 00\t4606.00\t4606.75\t4606.00\t4606.75\t83\t111\t25\n",
        "2021.11.01\t01 39 00\t4606.50\t4607.25\t4606.25\t4607.00\t91\t116\t25\n",
        "2021.11.01\t01 40 00\t4606.75\t4607.00\t4604.75\t4605.50\t279\t457\t0\n",
        "2021.11.01\t01 41 00\t4605.25\t4606.50\t4605.00\t4606.50\t96\t132\t25\n",
        "2021.11.01\t01 42 00\t4606.75\t4607.00\t4606.25\t4606.50\t79\t102\t25\n",
        "2021.11.01\t01 43 00\t4606.50\t4607.00\t4606.25\t4607.00\t83\t111\t25\n",
        "2021.11.01\t01 44 00\t4607.00\t4607.50\t4606.75\t4607.50\t120\t193\t25\n",
        "2021.11.01\t01 45 00\t4607.50\t4608.25\t4607.25\t4608.25\t151\t223\t25\n",
        "2021.11.01\t01 46 00\t4608.25\t4608.50\t4608.00\t4608.25\t145\t175\t25\n",
        "2021.11.01\t01 47 00\t4608.25\t4608.25\t4607.75\t4607.75\t44\t60\t25\n",
        "2021.11.01\t01 48 00\t4608.00\t4608.00\t4607.25\t4607.75\t53\t64\t25\n",
        "2021.11.01\t01 49 00\t4607.50\t4607.75\t4607.50\t4607.50\t26\t32\t25\n",
        "2021.11.01\t01 50 00\t4607.75\t4608.50\t4607.75\t4608.25\t67\t85\t25\n",
        "2021.11.01\t01 51 00\t4608.25\t4609.00\t4608.25\t4608.50\t82\t108\t25\n",
        "2021.11.01\t01 52 00\t4608.25\t4608.50\t4608.00\t4608.25\t69\t93\t25\n",
        "2021.11.01\t01 53 00\t4608.25\t4608.50\t4607.75\t4608.25\t30\t47\t25\n",
        "2021.11.01\t01 54 00\t4608.25\t4609.00\t4608.25\t4608.75\t53\t73\t25\n",
        "2021.11.01\t01 55 00\t4609.00\t4609.00\t4608.50\t4608.75\t50\t64\t25\n",
        "2021.11.01\t01 56 00\t4608.75\t4608.75\t4608.25\t4608.25\t21\t25\t25\n",
        "2021.11.01\t01 57 00\t4608.50\t4609.25\t4608.50\t4609.00\t53\t76\t25\n",
        "2021.11.01\t01 58 00\t4609.25\t4609.50\t4608.25\t4608.25\t75\t100\t25\n",
        "2021.11.01\t01 59 00\t4608.50\t4608.75\t4608.00\t4608.25\t48\t61\t25\n",
        "2021.11.01\t02 00 00\t4608.00\t4608.25\t4607.25\t4607.25\t88\t105\t25\n",
        "2021.11.01\t02 01 00\t4607.50\t4607.75\t4607.00\t4607.75\t101\t122\t25\n",
        "\"\"\"\n",
        "\n",
        "\n"
      ],
      "execution_count": null,
      "outputs": []
    },
    {
      "cell_type": "markdown",
      "metadata": {
        "id": "XzN1sSYxK4rJ"
      },
      "source": [
        "Разделим текст на линии и выведим в виде массива"
      ]
    },
    {
      "cell_type": "code",
      "metadata": {
        "colab": {
          "base_uri": "https://localhost:8080/"
        },
        "id": "jG-PlvH5MlEN",
        "outputId": "dee1c811-3271-442d-f17a-548556cb75a4"
      },
      "source": [
        "lines = myoutput.splitlines()\n",
        "lines"
      ],
      "execution_count": null,
      "outputs": [
        {
          "output_type": "execute_result",
          "data": {
            "text/plain": [
              "['<DATE>\\t   <TIME><OPEN><HIGH><LOW><CLOSE><TICKVOL><VOL><SPREAD>',\n",
              " '----------------------------------------------------------------',\n",
              " '2021.11.01\\t00 00 00\\t4610.25\\t4610.75\\t4609.50\\t4610.00\\t125\\t166\\t25',\n",
              " '2021.11.01\\t00 01 00\\t4610.00\\t4610.25\\t4609.75\\t4610.00\\t93\\t120\\t25',\n",
              " '2021.11.01\\t00 02 00\\t4610.00\\t4610.75\\t4609.75\\t4610.25\\t100\\t126\\t25',\n",
              " '2021.11.01\\t00 03 00\\t4610.00\\t4610.50\\t4609.75\\t4610.25\\t83\\t109\\t25',\n",
              " '2021.11.01\\t00 04 00\\t4610.00\\t4610.25\\t4609.50\\t4610.25\\t37\\t42\\t25',\n",
              " '2021.11.01\\t00 05 00\\t4610.25\\t4611.50\\t4610.25\\t4611.25\\t120\\t160\\t25',\n",
              " '2021.11.01\\t00 06 00\\t4611.25\\t4611.25\\t4610.25\\t4610.50\\t86\\t114\\t25',\n",
              " '2021.11.01\\t00 07 00\\t4610.50\\t4610.50\\t4609.50\\t4609.50\\t113\\t170\\t25',\n",
              " '2021.11.01\\t00 08 00\\t4609.75\\t4611.50\\t4609.75\\t4610.75\\t195\\t288\\t25',\n",
              " '2021.11.01\\t00 09 00\\t4610.75\\t4611.25\\t4610.75\\t4611.00\\t83\\t159\\t25',\n",
              " '2021.11.01\\t00 10 00\\t4611.00\\t4612.25\\t4611.00\\t4611.75\\t171\\t242\\t25',\n",
              " '2021.11.01\\t00 11 00\\t4611.75\\t4612.50\\t4611.75\\t4612.00\\t114\\t166\\t25',\n",
              " '2021.11.01\\t00 12 00\\t4612.00\\t4612.25\\t4611.75\\t4612.00\\t42\\t55\\t25',\n",
              " '2021.11.01\\t00 13 00\\t4612.25\\t4612.50\\t4612.00\\t4612.25\\t67\\t91\\t25',\n",
              " '2021.11.01\\t00 14 00\\t4612.25\\t4613.00\\t4611.00\\t4612.50\\t324\\t640\\t25',\n",
              " '2021.11.01\\t00 15 00\\t4612.75\\t4614.75\\t4612.75\\t4613.25\\t590\\t854\\t0',\n",
              " '2021.11.01\\t00 16 00\\t4613.50\\t4614.00\\t4612.75\\t4613.75\\t162\\t236\\t0',\n",
              " '2021.11.01\\t00 17 00\\t4614.00\\t4615.50\\t4613.75\\t4614.50\\t300\\t426\\t25',\n",
              " '2021.11.01\\t00 18 00\\t4614.50\\t4615.25\\t4614.50\\t4615.00\\t109\\t135\\t25',\n",
              " '2021.11.01\\t00 19 00\\t4615.25\\t4615.50\\t4614.50\\t4614.75\\t150\\t191\\t25',\n",
              " '2021.11.01\\t00 20 00\\t4614.75\\t4615.00\\t4614.25\\t4614.50\\t127\\t149\\t25',\n",
              " '2021.11.01\\t00 21 00\\t4614.50\\t4614.50\\t4613.00\\t4613.25\\t141\\t176\\t25',\n",
              " '2021.11.01\\t00 22 00\\t4613.50\\t4614.00\\t4613.25\\t4613.25\\t105\\t135\\t25',\n",
              " '2021.11.01\\t00 23 00\\t4613.25\\t4613.75\\t4613.25\\t4613.50\\t78\\t100\\t25',\n",
              " '2021.11.01\\t00 24 00\\t4613.50\\t4613.50\\t4612.75\\t4613.00\\t66\\t83\\t25',\n",
              " '2021.11.01\\t00 25 00\\t4613.25\\t4613.50\\t4613.25\\t4613.50\\t38\\t45\\t25',\n",
              " '2021.11.01\\t00 26 00\\t4613.25\\t4613.50\\t4612.75\\t4613.50\\t55\\t70\\t25',\n",
              " '2021.11.01\\t00 27 00\\t4613.50\\t4614.00\\t4613.25\\t4613.75\\t77\\t100\\t25',\n",
              " '2021.11.01\\t00 28 00\\t4614.00\\t4614.00\\t4613.50\\t4613.50\\t63\\t102\\t25',\n",
              " '2021.11.01\\t00 29 00\\t4613.75\\t4614.00\\t4613.50\\t4613.50\\t22\\t26\\t25',\n",
              " '2021.11.01\\t00 30 00\\t4613.50\\t4613.75\\t4613.50\\t4613.75\\t74\\t100\\t25',\n",
              " '2021.11.01\\t00 31 00\\t4613.75\\t4614.00\\t4613.75\\t4613.75\\t40\\t51\\t25',\n",
              " '2021.11.01\\t00 32 00\\t4613.75\\t4613.75\\t4613.25\\t4613.50\\t51\\t70\\t25',\n",
              " '2021.11.01\\t00 33 00\\t4613.50\\t4614.00\\t4613.25\\t4613.25\\t83\\t105\\t25',\n",
              " '2021.11.01\\t00 34 00\\t4613.00\\t4613.50\\t4613.00\\t4613.50\\t75\\t142\\t25',\n",
              " '2021.11.01\\t00 35 00\\t4613.50\\t4613.75\\t4613.25\\t4613.50\\t19\\t21\\t25',\n",
              " '2021.11.01\\t00 36 00\\t4613.50\\t4613.75\\t4613.25\\t4613.50\\t44\\t51\\t25',\n",
              " '2021.11.01\\t00 37 00\\t4613.50\\t4613.75\\t4613.50\\t4613.75\\t21\\t22\\t25',\n",
              " '2021.11.01\\t00 38 00\\t4613.75\\t4613.75\\t4613.50\\t4613.75\\t36\\t47\\t25',\n",
              " '2021.11.01\\t00 39 00\\t4613.75\\t4614.00\\t4613.25\\t4613.50\\t21\\t25\\t25',\n",
              " '2021.11.01\\t00 40 00\\t4613.50\\t4613.50\\t4613.00\\t4613.00\\t18\\t22\\t25',\n",
              " '2021.11.01\\t00 41 00\\t4613.00\\t4613.00\\t4612.50\\t4612.50\\t85\\t122\\t25',\n",
              " '2021.11.01\\t00 42 00\\t4612.75\\t4613.25\\t4612.50\\t4613.00\\t65\\t102\\t25',\n",
              " '2021.11.01\\t00 43 00\\t4613.00\\t4613.25\\t4613.00\\t4613.25\\t54\\t79\\t25',\n",
              " '2021.11.01\\t00 44 00\\t4613.25\\t4613.25\\t4612.75\\t4613.00\\t69\\t97\\t25',\n",
              " '2021.11.01\\t00 45 00\\t4613.00\\t4613.00\\t4612.75\\t4613.00\\t44\\t55\\t25',\n",
              " '2021.11.01\\t00 46 00\\t4613.00\\t4613.25\\t4612.50\\t4612.75\\t45\\t61\\t25',\n",
              " '2021.11.01\\t00 47 00\\t4612.75\\t4613.00\\t4612.50\\t4612.50\\t37\\t47\\t25',\n",
              " '2021.11.01\\t00 48 00\\t4612.50\\t4612.75\\t4612.25\\t4612.75\\t89\\t120\\t25',\n",
              " '2021.11.01\\t00 49 00\\t4612.75\\t4612.75\\t4612.50\\t4612.50\\t18\\t23\\t25',\n",
              " '2021.11.01\\t00 50 00\\t4612.50\\t4613.00\\t4612.25\\t4612.50\\t34\\t44\\t25',\n",
              " '2021.11.01\\t00 51 00\\t4612.50\\t4612.75\\t4612.00\\t4612.25\\t79\\t123\\t25',\n",
              " '2021.11.01\\t00 52 00\\t4612.50\\t4612.50\\t4612.25\\t4612.25\\t28\\t37\\t25',\n",
              " '2021.11.01\\t00 53 00\\t4612.25\\t4612.50\\t4611.50\\t4612.25\\t159\\t273\\t25',\n",
              " '2021.11.01\\t00 54 00\\t4612.50\\t4612.50\\t4611.75\\t4611.75\\t44\\t61\\t25',\n",
              " '2021.11.01\\t00 55 00\\t4612.00\\t4612.25\\t4611.75\\t4611.75\\t44\\t60\\t25',\n",
              " '2021.11.01\\t00 56 00\\t4611.75\\t4612.00\\t4611.50\\t4611.75\\t61\\t80\\t25',\n",
              " '2021.11.01\\t00 57 00\\t4611.75\\t4612.00\\t4611.50\\t4611.75\\t46\\t54\\t25',\n",
              " '2021.11.01\\t00 58 00\\t4612.00\\t4612.00\\t4611.75\\t4611.75\\t23\\t26\\t25',\n",
              " '2021.11.01\\t00 59 00\\t4612.00\\t4612.00\\t4611.75\\t4612.00\\t53\\t85\\t25',\n",
              " '2021.11.01\\t01 00 00\\t4612.00\\t4612.00\\t4610.25\\t4610.75\\t198\\t296\\t25',\n",
              " '2021.11.01\\t01 01 00\\t4611.00\\t4611.25\\t4610.75\\t4611.00\\t64\\t82\\t25',\n",
              " '2021.11.01\\t01 02 00\\t4611.00\\t4611.25\\t4610.75\\t4611.00\\t88\\t128\\t25',\n",
              " '2021.11.01\\t01 03 00\\t4611.25\\t4611.25\\t4610.50\\t4610.75\\t51\\t65\\t25',\n",
              " '2021.11.01\\t01 04 00\\t4610.75\\t4611.00\\t4610.50\\t4610.50\\t68\\t107\\t25',\n",
              " '2021.11.01\\t01 05 00\\t4610.50\\t4610.75\\t4610.25\\t4610.50\\t50\\t72\\t25',\n",
              " '2021.11.01\\t01 06 00\\t4610.50\\t4611.00\\t4610.25\\t4611.00\\t69\\t104\\t25',\n",
              " '2021.11.01\\t01 07 00\\t4611.00\\t4611.50\\t4610.75\\t4611.25\\t66\\t88\\t25',\n",
              " '2021.11.01\\t01 08 00\\t4611.00\\t4611.25\\t4610.75\\t4610.75\\t49\\t66\\t25',\n",
              " '2021.11.01\\t01 09 00\\t4610.75\\t4611.00\\t4610.50\\t4610.75\\t65\\t108\\t25',\n",
              " '2021.11.01\\t01 10 00\\t4610.75\\t4611.50\\t4610.75\\t4611.00\\t48\\t70\\t25',\n",
              " '2021.11.01\\t01 11 00\\t4611.25\\t4611.25\\t4611.00\\t4611.25\\t38\\t51\\t25',\n",
              " '2021.11.01\\t01 12 00\\t4611.25\\t4611.50\\t4611.00\\t4611.00\\t26\\t37\\t25',\n",
              " '2021.11.01\\t01 13 00\\t4611.00\\t4611.25\\t4610.75\\t4611.00\\t12\\t14\\t25',\n",
              " '2021.11.01\\t01 14 00\\t4611.00\\t4611.50\\t4611.00\\t4611.25\\t15\\t16\\t25',\n",
              " '2021.11.01\\t01 15 00\\t4611.25\\t4611.75\\t4610.50\\t4610.75\\t92\\t136\\t25',\n",
              " '2021.11.01\\t01 16 00\\t4610.75\\t4610.75\\t4609.25\\t4609.50\\t177\\t325\\t25',\n",
              " '2021.11.01\\t01 17 00\\t4609.50\\t4609.75\\t4609.00\\t4609.25\\t106\\t154\\t0',\n",
              " '2021.11.01\\t01 18 00\\t4609.25\\t4609.25\\t4608.75\\t4608.75\\t104\\t159\\t25',\n",
              " '2021.11.01\\t01 19 00\\t4608.50\\t4609.25\\t4608.25\\t4609.00\\t111\\t147\\t25',\n",
              " '2021.11.01\\t01 20 00\\t4608.75\\t4608.75\\t4608.25\\t4608.50\\t135\\t230\\t25',\n",
              " '2021.11.01\\t01 21 00\\t4608.50\\t4608.50\\t4607.75\\t4607.75\\t180\\t285\\t25',\n",
              " '2021.11.01\\t01 22 00\\t4607.75\\t4608.75\\t4607.75\\t4608.75\\t71\\t82\\t25',\n",
              " '2021.11.01\\t01 23 00\\t4608.75\\t4608.75\\t4608.50\\t4608.50\\t37\\t47\\t25',\n",
              " '2021.11.01\\t01 24 00\\t4608.50\\t4608.75\\t4607.75\\t4608.00\\t83\\t119\\t25',\n",
              " '2021.11.01\\t01 25 00\\t4607.75\\t4608.25\\t4607.75\\t4607.75\\t68\\t103\\t25',\n",
              " '2021.11.01\\t01 26 00\\t4607.75\\t4608.25\\t4607.50\\t4608.00\\t38\\t43\\t25',\n",
              " '2021.11.01\\t01 27 00\\t4607.75\\t4608.50\\t4607.75\\t4608.25\\t58\\t91\\t25',\n",
              " '2021.11.01\\t01 28 00\\t4608.50\\t4608.50\\t4607.75\\t4608.00\\t39\\t55\\t25',\n",
              " '2021.11.01\\t01 29 00\\t4608.00\\t4608.50\\t4607.75\\t4608.25\\t53\\t67\\t25',\n",
              " '2021.11.01\\t01 30 00\\t4608.25\\t4608.50\\t4607.00\\t4607.50\\t182\\t262\\t25',\n",
              " '2021.11.01\\t01 31 00\\t4607.50\\t4607.50\\t4606.50\\t4607.25\\t218\\t398\\t25',\n",
              " '2021.11.01\\t01 32 00\\t4607.50\\t4608.00\\t4607.00\\t4607.25\\t93\\t119\\t25',\n",
              " '2021.11.01\\t01 33 00\\t4607.25\\t4607.25\\t4606.75\\t4607.00\\t38\\t51\\t25',\n",
              " '2021.11.01\\t01 34 00\\t4607.00\\t4607.00\\t4606.75\\t4606.75\\t47\\t65\\t25',\n",
              " '2021.11.01\\t01 35 00\\t4606.50\\t4606.50\\t4606.00\\t4606.00\\t154\\t229\\t25',\n",
              " '2021.11.01\\t01 36 00\\t4606.00\\t4606.50\\t4605.75\\t4606.25\\t77\\t110\\t25',\n",
              " '2021.11.01\\t01 37 00\\t4606.25\\t4606.25\\t4605.50\\t4606.00\\t107\\t159\\t25',\n",
              " '2021.11.01\\t01 38 00\\t4606.00\\t4606.75\\t4606.00\\t4606.75\\t83\\t111\\t25',\n",
              " '2021.11.01\\t01 39 00\\t4606.50\\t4607.25\\t4606.25\\t4607.00\\t91\\t116\\t25',\n",
              " '2021.11.01\\t01 40 00\\t4606.75\\t4607.00\\t4604.75\\t4605.50\\t279\\t457\\t0',\n",
              " '2021.11.01\\t01 41 00\\t4605.25\\t4606.50\\t4605.00\\t4606.50\\t96\\t132\\t25',\n",
              " '2021.11.01\\t01 42 00\\t4606.75\\t4607.00\\t4606.25\\t4606.50\\t79\\t102\\t25',\n",
              " '2021.11.01\\t01 43 00\\t4606.50\\t4607.00\\t4606.25\\t4607.00\\t83\\t111\\t25',\n",
              " '2021.11.01\\t01 44 00\\t4607.00\\t4607.50\\t4606.75\\t4607.50\\t120\\t193\\t25',\n",
              " '2021.11.01\\t01 45 00\\t4607.50\\t4608.25\\t4607.25\\t4608.25\\t151\\t223\\t25',\n",
              " '2021.11.01\\t01 46 00\\t4608.25\\t4608.50\\t4608.00\\t4608.25\\t145\\t175\\t25',\n",
              " '2021.11.01\\t01 47 00\\t4608.25\\t4608.25\\t4607.75\\t4607.75\\t44\\t60\\t25',\n",
              " '2021.11.01\\t01 48 00\\t4608.00\\t4608.00\\t4607.25\\t4607.75\\t53\\t64\\t25',\n",
              " '2021.11.01\\t01 49 00\\t4607.50\\t4607.75\\t4607.50\\t4607.50\\t26\\t32\\t25',\n",
              " '2021.11.01\\t01 50 00\\t4607.75\\t4608.50\\t4607.75\\t4608.25\\t67\\t85\\t25',\n",
              " '2021.11.01\\t01 51 00\\t4608.25\\t4609.00\\t4608.25\\t4608.50\\t82\\t108\\t25',\n",
              " '2021.11.01\\t01 52 00\\t4608.25\\t4608.50\\t4608.00\\t4608.25\\t69\\t93\\t25',\n",
              " '2021.11.01\\t01 53 00\\t4608.25\\t4608.50\\t4607.75\\t4608.25\\t30\\t47\\t25',\n",
              " '2021.11.01\\t01 54 00\\t4608.25\\t4609.00\\t4608.25\\t4608.75\\t53\\t73\\t25',\n",
              " '2021.11.01\\t01 55 00\\t4609.00\\t4609.00\\t4608.50\\t4608.75\\t50\\t64\\t25',\n",
              " '2021.11.01\\t01 56 00\\t4608.75\\t4608.75\\t4608.25\\t4608.25\\t21\\t25\\t25',\n",
              " '2021.11.01\\t01 57 00\\t4608.50\\t4609.25\\t4608.50\\t4609.00\\t53\\t76\\t25',\n",
              " '2021.11.01\\t01 58 00\\t4609.25\\t4609.50\\t4608.25\\t4608.25\\t75\\t100\\t25',\n",
              " '2021.11.01\\t01 59 00\\t4608.50\\t4608.75\\t4608.00\\t4608.25\\t48\\t61\\t25',\n",
              " '2021.11.01\\t02 00 00\\t4608.00\\t4608.25\\t4607.25\\t4607.25\\t88\\t105\\t25',\n",
              " '2021.11.01\\t02 01 00\\t4607.50\\t4607.75\\t4607.00\\t4607.75\\t101\\t122\\t25']"
            ]
          },
          "metadata": {},
          "execution_count": 3
        }
      ]
    },
    {
      "cell_type": "markdown",
      "metadata": {
        "id": "fUmSmRfeN88k"
      },
      "source": [
        "Разабъём линии на ячейки"
      ]
    },
    {
      "cell_type": "code",
      "metadata": {
        "colab": {
          "base_uri": "https://localhost:8080/"
        },
        "id": "TKJBaW-nODs6",
        "outputId": "b6aad873-4230-4c83-88cf-20cc23dd8761"
      },
      "source": [
        "lines[2].split()"
      ],
      "execution_count": null,
      "outputs": [
        {
          "output_type": "execute_result",
          "data": {
            "text/plain": [
              "['2021.11.01',\n",
              " '00',\n",
              " '00',\n",
              " '00',\n",
              " '4610.25',\n",
              " '4610.75',\n",
              " '4609.50',\n",
              " '4610.00',\n",
              " '125',\n",
              " '166',\n",
              " '25']"
            ]
          },
          "metadata": {},
          "execution_count": 4
        }
      ]
    },
    {
      "cell_type": "markdown",
      "metadata": {
        "id": "6rR1bnwUOdMW"
      },
      "source": [
        "Выбераем нужные элементы"
      ]
    },
    {
      "cell_type": "code",
      "metadata": {
        "colab": {
          "base_uri": "https://localhost:8080/"
        },
        "id": "K3jXleDDOjvx",
        "outputId": "d08b89a6-da4d-4deb-8f4f-f0cc857e7821"
      },
      "source": [
        "for line in lines[2:]:\n",
        "  # do something with each line\n",
        "  words = line.split()\n",
        "  Time = words[1]  \n",
        "  Time = words[2]\n",
        "  Open = words[4]\n",
        "  Close = words[7]\n",
        "  print (Time, Open, Close)"
      ],
      "execution_count": null,
      "outputs": [
        {
          "output_type": "stream",
          "name": "stdout",
          "text": [
            "00 4610.25 4610.00\n",
            "01 4610.00 4610.00\n",
            "02 4610.00 4610.25\n",
            "03 4610.00 4610.25\n",
            "04 4610.00 4610.25\n",
            "05 4610.25 4611.25\n",
            "06 4611.25 4610.50\n",
            "07 4610.50 4609.50\n",
            "08 4609.75 4610.75\n",
            "09 4610.75 4611.00\n",
            "10 4611.00 4611.75\n",
            "11 4611.75 4612.00\n",
            "12 4612.00 4612.00\n",
            "13 4612.25 4612.25\n",
            "14 4612.25 4612.50\n",
            "15 4612.75 4613.25\n",
            "16 4613.50 4613.75\n",
            "17 4614.00 4614.50\n",
            "18 4614.50 4615.00\n",
            "19 4615.25 4614.75\n",
            "20 4614.75 4614.50\n",
            "21 4614.50 4613.25\n",
            "22 4613.50 4613.25\n",
            "23 4613.25 4613.50\n",
            "24 4613.50 4613.00\n",
            "25 4613.25 4613.50\n",
            "26 4613.25 4613.50\n",
            "27 4613.50 4613.75\n",
            "28 4614.00 4613.50\n",
            "29 4613.75 4613.50\n",
            "30 4613.50 4613.75\n",
            "31 4613.75 4613.75\n",
            "32 4613.75 4613.50\n",
            "33 4613.50 4613.25\n",
            "34 4613.00 4613.50\n",
            "35 4613.50 4613.50\n",
            "36 4613.50 4613.50\n",
            "37 4613.50 4613.75\n",
            "38 4613.75 4613.75\n",
            "39 4613.75 4613.50\n",
            "40 4613.50 4613.00\n",
            "41 4613.00 4612.50\n",
            "42 4612.75 4613.00\n",
            "43 4613.00 4613.25\n",
            "44 4613.25 4613.00\n",
            "45 4613.00 4613.00\n",
            "46 4613.00 4612.75\n",
            "47 4612.75 4612.50\n",
            "48 4612.50 4612.75\n",
            "49 4612.75 4612.50\n",
            "50 4612.50 4612.50\n",
            "51 4612.50 4612.25\n",
            "52 4612.50 4612.25\n",
            "53 4612.25 4612.25\n",
            "54 4612.50 4611.75\n",
            "55 4612.00 4611.75\n",
            "56 4611.75 4611.75\n",
            "57 4611.75 4611.75\n",
            "58 4612.00 4611.75\n",
            "59 4612.00 4612.00\n",
            "00 4612.00 4610.75\n",
            "01 4611.00 4611.00\n",
            "02 4611.00 4611.00\n",
            "03 4611.25 4610.75\n",
            "04 4610.75 4610.50\n",
            "05 4610.50 4610.50\n",
            "06 4610.50 4611.00\n",
            "07 4611.00 4611.25\n",
            "08 4611.00 4610.75\n",
            "09 4610.75 4610.75\n",
            "10 4610.75 4611.00\n",
            "11 4611.25 4611.25\n",
            "12 4611.25 4611.00\n",
            "13 4611.00 4611.00\n",
            "14 4611.00 4611.25\n",
            "15 4611.25 4610.75\n",
            "16 4610.75 4609.50\n",
            "17 4609.50 4609.25\n",
            "18 4609.25 4608.75\n",
            "19 4608.50 4609.00\n",
            "20 4608.75 4608.50\n",
            "21 4608.50 4607.75\n",
            "22 4607.75 4608.75\n",
            "23 4608.75 4608.50\n",
            "24 4608.50 4608.00\n",
            "25 4607.75 4607.75\n",
            "26 4607.75 4608.00\n",
            "27 4607.75 4608.25\n",
            "28 4608.50 4608.00\n",
            "29 4608.00 4608.25\n",
            "30 4608.25 4607.50\n",
            "31 4607.50 4607.25\n",
            "32 4607.50 4607.25\n",
            "33 4607.25 4607.00\n",
            "34 4607.00 4606.75\n",
            "35 4606.50 4606.00\n",
            "36 4606.00 4606.25\n",
            "37 4606.25 4606.00\n",
            "38 4606.00 4606.75\n",
            "39 4606.50 4607.00\n",
            "40 4606.75 4605.50\n",
            "41 4605.25 4606.50\n",
            "42 4606.75 4606.50\n",
            "43 4606.50 4607.00\n",
            "44 4607.00 4607.50\n",
            "45 4607.50 4608.25\n",
            "46 4608.25 4608.25\n",
            "47 4608.25 4607.75\n",
            "48 4608.00 4607.75\n",
            "49 4607.50 4607.50\n",
            "50 4607.75 4608.25\n",
            "51 4608.25 4608.50\n",
            "52 4608.25 4608.25\n",
            "53 4608.25 4608.25\n",
            "54 4608.25 4608.75\n",
            "55 4609.00 4608.75\n",
            "56 4608.75 4608.25\n",
            "57 4608.50 4609.00\n",
            "58 4609.25 4608.25\n",
            "59 4608.50 4608.25\n",
            "00 4608.00 4607.25\n",
            "01 4607.50 4607.75\n"
          ]
        }
      ]
    },
    {
      "cell_type": "markdown",
      "metadata": {
        "id": "9_MmqhjHRPcF"
      },
      "source": [
        "Добавляем массив в numpy"
      ]
    },
    {
      "cell_type": "code",
      "metadata": {
        "id": "2BEWb9YERVzU"
      },
      "source": [
        "import numpy as np\n",
        "data = []\n",
        "for line in lines[2:]:\n",
        "  # do something with each line\n",
        "  words = line.split()\n",
        "  Time = float(words[1])\n",
        "  Time = float(words[2])\n",
        "  Open = float(words[4])\n",
        "  Close = float(words[7])\n",
        "  data.append((Time, Open, Close))\n",
        "data = np.array(data)"
      ],
      "execution_count": null,
      "outputs": []
    },
    {
      "cell_type": "markdown",
      "metadata": {
        "id": "0tcDL7OPSAai"
      },
      "source": [
        "Построим график"
      ]
    },
    {
      "cell_type": "code",
      "metadata": {
        "colab": {
          "base_uri": "https://localhost:8080/",
          "height": 312
        },
        "id": "y5MWP_g-SJ6a",
        "outputId": "5a7a8997-3df4-4a78-8e53-51108d092758"
      },
      "source": [
        "import matplotlib.pyplot as plt\n",
        "plt.plot(data[:, 00])\n",
        "plt.xlabel('step')\n",
        "plt.ylabel('')\n",
        "plt.title('Изменение цены SP500')"
      ],
      "execution_count": null,
      "outputs": [
        {
          "output_type": "execute_result",
          "data": {
            "text/plain": [
              "Text(0.5, 1.0, 'Изменение цены SP500')"
            ]
          },
          "metadata": {},
          "execution_count": 7
        },
        {
          "output_type": "display_data",
          "data": {
            "image/png": "[encoded data removed]",
            "text/plain": [
              "<Figure size 432x288 with 1 Axes>"
            ]
          },
          "metadata": {
            "needs_background": "light"
          }
        }
      ]
    }
  ]
}