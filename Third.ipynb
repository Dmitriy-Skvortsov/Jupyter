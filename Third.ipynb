{
  "nbformat": 4,
  "nbformat_minor": 0,
  "metadata": {
    "colab": {
      "name": "Third.ipynb",
      "provenance": [],
      "collapsed_sections": [],
      "authorship_tag": "ABX9TyMQzsfkY3QK2v4hJCaZadke",
      "include_colab_link": true
    },
    "kernelspec": {
      "name": "python3",
      "display_name": "Python 3"
    },
    "language_info": {
      "name": "python"
    }
  },
  "cells": [
    {
      "cell_type": "markdown",
      "metadata": {
        "id": "view-in-github",
        "colab_type": "text"
      },
      "source": [
        "<a href=\"https://colab.research.google.com/github/Dmitriy-Skvortsov/Jupyter/blob/develop-/Third.ipynb\" target=\"_parent\"><img src=\"https://colab.research.google.com/assets/colab-badge.svg\" alt=\"Open In Colab\"/></a>"
      ]
    },
    {
      "cell_type": "markdown",
      "metadata": {
        "id": "nuOYng4Gg8g8"
      },
      "source": [
        "# Третий файл\n"
      ]
    },
    {
      "cell_type": "markdown",
      "metadata": {
        "id": "QQ_i62KjoqYN"
      },
      "source": [
        "$\\sqrt{3x-1}+(1+x)^2$"
      ]
    },
    {
      "cell_type": "markdown",
      "metadata": {
        "id": "Gckq6_C1peEz"
      },
      "source": [
        "# Визуализация объёма сумм продаж по дням"
      ]
    },
    {
      "cell_type": "code",
      "metadata": {
        "id": "Nc_0Rlnb2Srh"
      },
      "source": [
        "# Файл продаж\n",
        "\n",
        "myoutput = \"\"\"\\\n",
        "Счёт  Сумма Год Месяц День Время\n",
        "- - - - - - - - - - - - - - - - - - - - \n",
        "26390\t\t190\t2019 -01 -19 12:1:41\n",
        "26391\t\t100\t2019 -01 -19 12:42:40\n",
        "26393\t\t190\t2019 -01 -19 13:37:02\n",
        "26394\t\t190\t2019 -01 -19 13:4:44\n",
        "2639\t\t2000\t2019 -01 -19 1:19:40\n",
        "263960\t\t190\t2019 -01 -19 16:12:44\n",
        "263962\t\t190\t2019 -01 -21 21:3:08\n",
        "263969\t\t190\t2019 -01 -19 21:48:11\n",
        "263973\t\t190\t2019 -01 -20 08:33:48\n",
        "26397\t\t190\t2019 -01 -20 10:0:47\n",
        "263977\t\t190\t2019 -01 -20 11:9:40\n",
        "263978\t\t190\t2019 -01 -20 13:19:09\n",
        "263979\t\t190\t2019 -01 -20 14:3:02\n",
        "263980\t\t190\t2019 -01 -20 14:26:28\n",
        "263981\t\t190\t2019 -01 -28 13:06:04\n",
        "263982\t\t200\t2019 -01 -20 16:2:06\n",
        "263983\t\t190\t2019 -01 -20 17:00:34\n",
        "263984\t\t190\t2019 -01 -20 19:20:17\n",
        "26398\t\t190\t2019 -02 -04 09:21:38\n",
        "263986\t\t1900\t2019 -01 -20 20:39:44\n",
        "263987\t\t190\t2019 -01 -20 20:7:22\n",
        "263988\t\t190\t2019 -01 -20 21:06:10\n",
        "263990\t\t1190\t2019 -01 -20 23:07:34\n",
        "263991\t\t200\t2019 -01 -20 23:36:24\n",
        "263992\t\t200\t2019 -01 -23 12:43:14\n",
        "263993\t\t190\t2019 -01 -21 01:04:32\n",
        "263994\t\t8000\t2019 -01 -21 01:49:44\n",
        "26399\t\t200\t2019 -01 -21 04:02:09\n",
        "263999\t\t200\t2019 -01 -21 08:37:17\n",
        "264000\t\t190\t2019 -01 -21 09:43:43\n",
        "264002\t\t200\t2019 -01 -21 09:36:21\n",
        "264003\t\t190\t2019 -01 -21 12:13:29\n",
        "264004\t\t190\t2019 -01 -21 10:3:17\n",
        "26400\t\t190\t2019 -01 -21 20:3:0\n",
        "264014\t\t190\t2019 -01 -29 12:08:13\n",
        "26401\t\t190\t2019 -01 -21 14:27:9\n",
        "264017\t\t190\t2019 -01 -21 14:3:44\n",
        "264021\t\t190\t2019 -01 -21 16:1:10\n",
        "264023\t\t190\t2019 -01 -21 19:36:8\n",
        "26402\t\t1190\t2019 -01 -22 00:22:31\n",
        "264028\t\t190\t2019 -01 -22 04:36:24\n",
        "264030\t\t190\t2019 -01 -22 07:34:29\n",
        "264031\t\t190\t2019 -01 -22 08:31:0\n",
        "264032\t\t98\t2019 -01 -22 10:13:08\n",
        "264034\t\t190\t2019 -01 -22 08:2:26\n",
        "264036\t\t98\t2019 -01 -22 09:46:07\n",
        "264039\t\t98\t2019 -01 -22 11:1:30\n",
        "264040\t\t98\t2019 -01 -22 10:02:36\n",
        "264041\t\t98\t2019 -01 -23 13:43:0\n",
        "264042\t\t98\t2019 -01 -22 10:16:46\n",
        "264043\t\t98\t2019 -01 -22 10:27:36\n",
        "264044\t\t98\t2019 -01 -22 19:4:3\n",
        "26404\t\t98\t2019 -01 -22 10:4:17\n",
        "264046\t\t190\t2019 -01 -23 00:20:2\n",
        "264047\t\t98\t2019 -01 -22 10:6:43\n",
        "264048\t\t98\t2019 -01 -22 10:3:2\n",
        "26400\t\t98\t2019 -01 -22 11:04:23\n",
        "26401\t\t98\t2019 -01 -22 11:07:\n",
        "26402\t\t98\t2019 -01 -22 11:09:32\n",
        "26404\t\t98\t2019 -01 -22 11:26:3\n",
        "2640\t\t98\t2019 -01 -22 12:2:0\n",
        "26406\t\t98\t2019 -01 -24 14:33:08\n",
        "26409\t\t98\t2019 -01 -22 11:31:49\n",
        "264061\t\t98\t2019 -01 -22 12:33:41\n",
        "264063\t\t1190\t2019 -01 -22 12:22:06\n",
        "264064\t\t98\t2019 -01 -22 12:27:12\n",
        "26406\t\t190\t2019 -01 -28 13:04:39\n",
        "264068\t\t1098\t2019 -01 -22 12:3:12\n",
        "264069\t\t190\t2019 -01 -22 13:08:14\n",
        "264072\t\t98\t2019 -01 -22 13:16:12\n",
        "264073\t\t98\t2019 -01 -22 13:21:22\n",
        "264074\t\t98\t2019 -01 -22 13:23:0\n",
        "264076\t\t98\t2019 -01 -2 16:30:34\n",
        "264080\t\t98\t2019 -01 -22 14:24:31\n",
        "264081\t\t1098\t2019 -01 -22 14:7:17\n",
        "264083\t\t98\t2019 -01 -23 11:02:32\n",
        "264084\t\t98\t2019 -01 28 13:06:43\n",
        "26408\t\t98\t2019 -01 -22 1:03:19\n",
        "264086\t\t98\t2019 -01 -22 1:12:2\n",
        "264087\t\t190\t2019 -01 -22 1:34:11\n",
        "264088\t\t1000 2019 -01 -24 1:18:01\n",
        "264089\t\t1098\t2019 -01 -22 1::23\n",
        "264090\t\t1000\t2019 -01 -22 1:47:11\n",
        "264093\t\t98\t2019 -01 -22 16:10:48\n",
        "264094\t\t98\t2019 -01 -22 16:41:33\n",
        "26409\t\t98\t2019 -01 -22 16:2:1\n",
        "264096\t\t98\t2019 -01 -22 16:21:8\n",
        "264097\t\t98\t2019 -01 -22 16:3:12\n",
        "264098\t\t98\t2019 -01 -22 16:33:4\n",
        "264099\t\t98\t2019 -01 -22 16:37:49\n",
        "264101\t\t98\t2019 -01 -22 17:10:10\n",
        "264102\t\t98\t2019 -01 -22 17:40:12\n",
        "\"\"\"\n",
        "\n",
        "\n"
      ],
      "execution_count": 1,
      "outputs": []
    },
    {
      "cell_type": "markdown",
      "metadata": {
        "id": "Gjb5l5Mrs4mU"
      },
      "source": [
        "Разделим текст на линии и выведим в виде массива"
      ]
    },
    {
      "cell_type": "code",
      "metadata": {
        "colab": {
          "base_uri": "https://localhost:8080/"
        },
        "id": "ZyN0dMe24rMO",
        "outputId": "2ce19af5-6f93-45f7-8f15-205ba0562d40"
      },
      "source": [
        "lines = myoutput.splitlines()\n",
        "lines"
      ],
      "execution_count": 2,
      "outputs": [
        {
          "output_type": "execute_result",
          "data": {
            "text/plain": [
              "['Счёт  Сумма Год Месяц День Время',\n",
              " '- - - - - - - - - - - - - - - - - - - - ',\n",
              " '26390\\t\\t190\\t2019 -01 -19 12:1:41',\n",
              " '26391\\t\\t100\\t2019 -01 -19 12:42:40',\n",
              " '26393\\t\\t190\\t2019 -01 -19 13:37:02',\n",
              " '26394\\t\\t190\\t2019 -01 -19 13:4:44',\n",
              " '2639\\t\\t2000\\t2019 -01 -19 1:19:40',\n",
              " '263960\\t\\t190\\t2019 -01 -19 16:12:44',\n",
              " '263962\\t\\t190\\t2019 -01 -21 21:3:08',\n",
              " '263969\\t\\t190\\t2019 -01 -19 21:48:11',\n",
              " '263973\\t\\t190\\t2019 -01 -20 08:33:48',\n",
              " '26397\\t\\t190\\t2019 -01 -20 10:0:47',\n",
              " '263977\\t\\t190\\t2019 -01 -20 11:9:40',\n",
              " '263978\\t\\t190\\t2019 -01 -20 13:19:09',\n",
              " '263979\\t\\t190\\t2019 -01 -20 14:3:02',\n",
              " '263980\\t\\t190\\t2019 -01 -20 14:26:28',\n",
              " '263981\\t\\t190\\t2019 -01 -28 13:06:04',\n",
              " '263982\\t\\t200\\t2019 -01 -20 16:2:06',\n",
              " '263983\\t\\t190\\t2019 -01 -20 17:00:34',\n",
              " '263984\\t\\t190\\t2019 -01 -20 19:20:17',\n",
              " '26398\\t\\t190\\t2019 -02 -04 09:21:38',\n",
              " '263986\\t\\t1900\\t2019 -01 -20 20:39:44',\n",
              " '263987\\t\\t190\\t2019 -01 -20 20:7:22',\n",
              " '263988\\t\\t190\\t2019 -01 -20 21:06:10',\n",
              " '263990\\t\\t1190\\t2019 -01 -20 23:07:34',\n",
              " '263991\\t\\t200\\t2019 -01 -20 23:36:24',\n",
              " '263992\\t\\t200\\t2019 -01 -23 12:43:14',\n",
              " '263993\\t\\t190\\t2019 -01 -21 01:04:32',\n",
              " '263994\\t\\t8000\\t2019 -01 -21 01:49:44',\n",
              " '26399\\t\\t200\\t2019 -01 -21 04:02:09',\n",
              " '263999\\t\\t200\\t2019 -01 -21 08:37:17',\n",
              " '264000\\t\\t190\\t2019 -01 -21 09:43:43',\n",
              " '264002\\t\\t200\\t2019 -01 -21 09:36:21',\n",
              " '264003\\t\\t190\\t2019 -01 -21 12:13:29',\n",
              " '264004\\t\\t190\\t2019 -01 -21 10:3:17',\n",
              " '26400\\t\\t190\\t2019 -01 -21 20:3:0',\n",
              " '264014\\t\\t190\\t2019 -01 -29 12:08:13',\n",
              " '26401\\t\\t190\\t2019 -01 -21 14:27:9',\n",
              " '264017\\t\\t190\\t2019 -01 -21 14:3:44',\n",
              " '264021\\t\\t190\\t2019 -01 -21 16:1:10',\n",
              " '264023\\t\\t190\\t2019 -01 -21 19:36:8',\n",
              " '26402\\t\\t1190\\t2019 -01 -22 00:22:31',\n",
              " '264028\\t\\t190\\t2019 -01 -22 04:36:24',\n",
              " '264030\\t\\t190\\t2019 -01 -22 07:34:29',\n",
              " '264031\\t\\t190\\t2019 -01 -22 08:31:0',\n",
              " '264032\\t\\t98\\t2019 -01 -22 10:13:08',\n",
              " '264034\\t\\t190\\t2019 -01 -22 08:2:26',\n",
              " '264036\\t\\t98\\t2019 -01 -22 09:46:07',\n",
              " '264039\\t\\t98\\t2019 -01 -22 11:1:30',\n",
              " '264040\\t\\t98\\t2019 -01 -22 10:02:36',\n",
              " '264041\\t\\t98\\t2019 -01 -23 13:43:0',\n",
              " '264042\\t\\t98\\t2019 -01 -22 10:16:46',\n",
              " '264043\\t\\t98\\t2019 -01 -22 10:27:36',\n",
              " '264044\\t\\t98\\t2019 -01 -22 19:4:3',\n",
              " '26404\\t\\t98\\t2019 -01 -22 10:4:17',\n",
              " '264046\\t\\t190\\t2019 -01 -23 00:20:2',\n",
              " '264047\\t\\t98\\t2019 -01 -22 10:6:43',\n",
              " '264048\\t\\t98\\t2019 -01 -22 10:3:2',\n",
              " '26400\\t\\t98\\t2019 -01 -22 11:04:23',\n",
              " '26401\\t\\t98\\t2019 -01 -22 11:07:',\n",
              " '26402\\t\\t98\\t2019 -01 -22 11:09:32',\n",
              " '26404\\t\\t98\\t2019 -01 -22 11:26:3',\n",
              " '2640\\t\\t98\\t2019 -01 -22 12:2:0',\n",
              " '26406\\t\\t98\\t2019 -01 -24 14:33:08',\n",
              " '26409\\t\\t98\\t2019 -01 -22 11:31:49',\n",
              " '264061\\t\\t98\\t2019 -01 -22 12:33:41',\n",
              " '264063\\t\\t1190\\t2019 -01 -22 12:22:06',\n",
              " '264064\\t\\t98\\t2019 -01 -22 12:27:12',\n",
              " '26406\\t\\t190\\t2019 -01 -28 13:04:39',\n",
              " '264068\\t\\t1098\\t2019 -01 -22 12:3:12',\n",
              " '264069\\t\\t190\\t2019 -01 -22 13:08:14',\n",
              " '264072\\t\\t98\\t2019 -01 -22 13:16:12',\n",
              " '264073\\t\\t98\\t2019 -01 -22 13:21:22',\n",
              " '264074\\t\\t98\\t2019 -01 -22 13:23:0',\n",
              " '264076\\t\\t98\\t2019 -01 -2 16:30:34',\n",
              " '264080\\t\\t98\\t2019 -01 -22 14:24:31',\n",
              " '264081\\t\\t1098\\t2019 -01 -22 14:7:17',\n",
              " '264083\\t\\t98\\t2019 -01 -23 11:02:32',\n",
              " '264084\\t\\t98\\t2019 -01 28 13:06:43',\n",
              " '26408\\t\\t98\\t2019 -01 -22 1:03:19',\n",
              " '264086\\t\\t98\\t2019 -01 -22 1:12:2',\n",
              " '264087\\t\\t190\\t2019 -01 -22 1:34:11',\n",
              " '264088\\t\\t1000 2019 -01 -24 1:18:01',\n",
              " '264089\\t\\t1098\\t2019 -01 -22 1::23',\n",
              " '264090\\t\\t1000\\t2019 -01 -22 1:47:11',\n",
              " '264093\\t\\t98\\t2019 -01 -22 16:10:48',\n",
              " '264094\\t\\t98\\t2019 -01 -22 16:41:33',\n",
              " '26409\\t\\t98\\t2019 -01 -22 16:2:1',\n",
              " '264096\\t\\t98\\t2019 -01 -22 16:21:8',\n",
              " '264097\\t\\t98\\t2019 -01 -22 16:3:12',\n",
              " '264098\\t\\t98\\t2019 -01 -22 16:33:4',\n",
              " '264099\\t\\t98\\t2019 -01 -22 16:37:49',\n",
              " '264101\\t\\t98\\t2019 -01 -22 17:10:10',\n",
              " '264102\\t\\t98\\t2019 -01 -22 17:40:12']"
            ]
          },
          "metadata": {},
          "execution_count": 2
        }
      ]
    },
    {
      "cell_type": "markdown",
      "metadata": {
        "id": "OyHAStg6tMKE"
      },
      "source": [
        "Разабъём линии на ячейки"
      ]
    },
    {
      "cell_type": "code",
      "metadata": {
        "colab": {
          "base_uri": "https://localhost:8080/"
        },
        "id": "K2gxfoTO50WT",
        "outputId": "2cea71aa-5305-4f98-d8af-a4baeda257b8"
      },
      "source": [
        "lines[2].split()"
      ],
      "execution_count": 3,
      "outputs": [
        {
          "output_type": "execute_result",
          "data": {
            "text/plain": [
              "['26390', '190', '2019', '-01', '-19', '12:1:41']"
            ]
          },
          "metadata": {},
          "execution_count": 3
        }
      ]
    },
    {
      "cell_type": "markdown",
      "metadata": {
        "id": "N1SdFJ-wtV1o"
      },
      "source": [
        " Выбераем нужные элементы"
      ]
    },
    {
      "cell_type": "code",
      "metadata": {
        "colab": {
          "base_uri": "https://localhost:8080/"
        },
        "id": "Aw7pIg7W64pR",
        "outputId": "d126251e-8d2d-4f9c-8d73-17d71c0dfca2"
      },
      "source": [
        "for line in lines[2:]:  \n",
        "  words = line.split()\n",
        "  Сумма = words[1]  \n",
        "  День = words[4]\n",
        "  print (Сумма, День)"
      ],
      "execution_count": 4,
      "outputs": [
        {
          "output_type": "stream",
          "name": "stdout",
          "text": [
            "190 -19\n",
            "100 -19\n",
            "190 -19\n",
            "190 -19\n",
            "2000 -19\n",
            "190 -19\n",
            "190 -21\n",
            "190 -19\n",
            "190 -20\n",
            "190 -20\n",
            "190 -20\n",
            "190 -20\n",
            "190 -20\n",
            "190 -20\n",
            "190 -28\n",
            "200 -20\n",
            "190 -20\n",
            "190 -20\n",
            "190 -04\n",
            "1900 -20\n",
            "190 -20\n",
            "190 -20\n",
            "1190 -20\n",
            "200 -20\n",
            "200 -23\n",
            "190 -21\n",
            "8000 -21\n",
            "200 -21\n",
            "200 -21\n",
            "190 -21\n",
            "200 -21\n",
            "190 -21\n",
            "190 -21\n",
            "190 -21\n",
            "190 -29\n",
            "190 -21\n",
            "190 -21\n",
            "190 -21\n",
            "190 -21\n",
            "1190 -22\n",
            "190 -22\n",
            "190 -22\n",
            "190 -22\n",
            "98 -22\n",
            "190 -22\n",
            "98 -22\n",
            "98 -22\n",
            "98 -22\n",
            "98 -23\n",
            "98 -22\n",
            "98 -22\n",
            "98 -22\n",
            "98 -22\n",
            "190 -23\n",
            "98 -22\n",
            "98 -22\n",
            "98 -22\n",
            "98 -22\n",
            "98 -22\n",
            "98 -22\n",
            "98 -22\n",
            "98 -24\n",
            "98 -22\n",
            "98 -22\n",
            "1190 -22\n",
            "98 -22\n",
            "190 -28\n",
            "1098 -22\n",
            "190 -22\n",
            "98 -22\n",
            "98 -22\n",
            "98 -22\n",
            "98 -2\n",
            "98 -22\n",
            "1098 -22\n",
            "98 -23\n",
            "98 28\n",
            "98 -22\n",
            "98 -22\n",
            "190 -22\n",
            "1000 -24\n",
            "1098 -22\n",
            "1000 -22\n",
            "98 -22\n",
            "98 -22\n",
            "98 -22\n",
            "98 -22\n",
            "98 -22\n",
            "98 -22\n",
            "98 -22\n",
            "98 -22\n",
            "98 -22\n"
          ]
        }
      ]
    },
    {
      "cell_type": "markdown",
      "metadata": {
        "id": "Ip1wp68lthBh"
      },
      "source": [
        "Добавляем массив в numpy"
      ]
    },
    {
      "cell_type": "code",
      "metadata": {
        "id": "o_skkKoL9laM"
      },
      "source": [
        "import numpy as np\n",
        "data = []\n",
        "for line in lines[2:]:\n",
        "  # do something with each line\n",
        "  words = line.split()\n",
        "  Сумма = float(words[1])\n",
        "  День = float(words[4])\n",
        "  data.append((Сумма, День))\n",
        "data = np.array(data)\n"
      ],
      "execution_count": 5,
      "outputs": []
    },
    {
      "cell_type": "markdown",
      "metadata": {
        "id": "Z7OiDMRdttmI"
      },
      "source": [
        "Построим график"
      ]
    },
    {
      "cell_type": "code",
      "metadata": {
        "colab": {
          "base_uri": "https://localhost:8080/",
          "height": 312
        },
        "id": "CYFji77Abm0o",
        "outputId": "de57bc6a-d36b-4d46-ff0f-9d022556c0b3"
      },
      "source": [
        "import matplotlib.pyplot as plt\n",
        "plt.plot(data[:, 0])\n",
        "plt.xlabel('день')\n",
        "plt.ylabel('сумма')\n",
        "plt.title('Вывод графика объёма суммы по дням')"
      ],
      "execution_count": 6,
      "outputs": [
        {
          "output_type": "execute_result",
          "data": {
            "text/plain": [
              "Text(0.5, 1.0, 'Вывод графика объёма суммы по дням')"
            ]
          },
          "metadata": {},
          "execution_count": 6
        },
        {
          "output_type": "display_data",
          "data": {
            "image/png": "[encoded data removed]",
            "text/plain": [
              "<Figure size 432x288 with 1 Axes>"
            ]
          },
          "metadata": {
            "needs_background": "light"
          }
        }
      ]
    }
  ]
}