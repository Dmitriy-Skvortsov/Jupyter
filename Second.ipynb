{
 "cells": [
  {
   "cell_type": "markdown",
   "id": "353a6672",
   "metadata": {},
   "source": [
    "# Последовательность Фибоначчи"
   ]
  },
  {
   "cell_type": "code",
   "execution_count": 1,
   "id": "88efb2cb",
   "metadata": {},
   "outputs": [],
   "source": [
    "def fibonacci(sequence_length):\n",
    "    sequence = [0,1]\n",
    "    if sequence_length < 1:\n",
    "        print (\"Последовательность Фибоначи не может иметь длину, меньшую 1.\")\n",
    "        return\n",
    "    if 0 < sequence_length < 3:\n",
    "        return sequence[0:sequence_length]\n",
    "    for i in range(2,sequence_length):\n",
    "        sequence.append(sequence[i-1]+sequence[i-2])\n",
    "    return sequence"
   ]
  },
  {
   "cell_type": "code",
   "execution_count": 2,
   "id": "80d44f00",
   "metadata": {},
   "outputs": [
    {
     "data": {
      "text/plain": [
       "[0, 1, 1, 2, 3, 5, 8, 13, 21, 34, 55, 89]"
      ]
     },
     "execution_count": 2,
     "metadata": {},
     "output_type": "execute_result"
    }
   ],
   "source": [
    "fibonacci(12)"
   ]
  },
  {
   "cell_type": "markdown",
   "id": "85b8c80a",
   "metadata": {},
   "source": [
    "fibonacci(2)"
   ]
  },
  {
   "cell_type": "code",
   "execution_count": 3,
   "id": "e3f6645c",
   "metadata": {},
   "outputs": [
    {
     "name": "stdout",
     "output_type": "stream",
     "text": [
      "Последовательность Фибоначи не может иметь длину, меньшую 1.\n"
     ]
    }
   ],
   "source": [
    "fibonacci(0)"
   ]
  },
  {
   "cell_type": "markdown",
   "id": "fb4e81cc",
   "metadata": {},
   "source": [
    "# Бриллианты"
   ]
  },
  {
   "cell_type": "code",
   "execution_count": 4,
   "id": "c84b61b9",
   "metadata": {},
   "outputs": [],
   "source": [
    "import numpy as np\n",
    "import pandas as pd\n",
    "import matplotlib.pyplot as plt\n",
    "import seaborn as sns"
   ]
  },
  {
   "cell_type": "markdown",
   "id": "23753df1",
   "metadata": {},
   "source": [
    "***Читаем файл \"p1_бриллианты.csv\"*** "
   ]
  },
  {
   "cell_type": "code",
   "execution_count": 5,
   "id": "86568b95",
   "metadata": {},
   "outputs": [],
   "source": [
    "data = pd.read_csv('p1_diamonds.csv')"
   ]
  },
  {
   "cell_type": "markdown",
   "id": "d7d236b5",
   "metadata": {},
   "source": [
    "***Удаление Unnamed столбца, axis = 1 означает, что мы удаляем столбец***"
   ]
  },
  {
   "cell_type": "code",
   "execution_count": 6,
   "id": "8476a579",
   "metadata": {},
   "outputs": [],
   "source": [
    "data = data.drop(['Unnamed: 0'], axis = 1)"
   ]
  },
  {
   "cell_type": "markdown",
   "id": "e5897b34",
   "metadata": {},
   "source": [
    "***Выводим первые строки файла***"
   ]
  },
  {
   "cell_type": "code",
   "execution_count": 7,
   "id": "52ba5f50",
   "metadata": {},
   "outputs": [
    {
     "data": {
      "text/html": [
       "<div>\n",
       "<style scoped>\n",
       "    .dataframe tbody tr th:only-of-type {\n",
       "        vertical-align: middle;\n",
       "    }\n",
       "\n",
       "    .dataframe tbody tr th {\n",
       "        vertical-align: top;\n",
       "    }\n",
       "\n",
       "    .dataframe thead th {\n",
       "        text-align: right;\n",
       "    }\n",
       "</style>\n",
       "<table border=\"1\" class=\"dataframe\">\n",
       "  <thead>\n",
       "    <tr style=\"text-align: right;\">\n",
       "      <th></th>\n",
       "      <th>carat</th>\n",
       "      <th>cut</th>\n",
       "      <th>color</th>\n",
       "      <th>clarity</th>\n",
       "      <th>depth</th>\n",
       "      <th>table</th>\n",
       "      <th>price</th>\n",
       "      <th>x</th>\n",
       "      <th>y</th>\n",
       "      <th>z</th>\n",
       "    </tr>\n",
       "  </thead>\n",
       "  <tbody>\n",
       "    <tr>\n",
       "      <th>0</th>\n",
       "      <td>0.23</td>\n",
       "      <td>Ideal</td>\n",
       "      <td>E</td>\n",
       "      <td>SI2</td>\n",
       "      <td>61.5</td>\n",
       "      <td>55.0</td>\n",
       "      <td>326</td>\n",
       "      <td>3.95</td>\n",
       "      <td>3.98</td>\n",
       "      <td>2.43</td>\n",
       "    </tr>\n",
       "    <tr>\n",
       "      <th>1</th>\n",
       "      <td>0.21</td>\n",
       "      <td>Premium</td>\n",
       "      <td>E</td>\n",
       "      <td>SI1</td>\n",
       "      <td>59.8</td>\n",
       "      <td>61.0</td>\n",
       "      <td>326</td>\n",
       "      <td>3.89</td>\n",
       "      <td>3.84</td>\n",
       "      <td>2.31</td>\n",
       "    </tr>\n",
       "    <tr>\n",
       "      <th>2</th>\n",
       "      <td>0.23</td>\n",
       "      <td>Good</td>\n",
       "      <td>E</td>\n",
       "      <td>VS1</td>\n",
       "      <td>56.9</td>\n",
       "      <td>65.0</td>\n",
       "      <td>327</td>\n",
       "      <td>4.05</td>\n",
       "      <td>4.07</td>\n",
       "      <td>2.31</td>\n",
       "    </tr>\n",
       "    <tr>\n",
       "      <th>3</th>\n",
       "      <td>0.29</td>\n",
       "      <td>Premium</td>\n",
       "      <td>I</td>\n",
       "      <td>VS2</td>\n",
       "      <td>62.4</td>\n",
       "      <td>58.0</td>\n",
       "      <td>334</td>\n",
       "      <td>4.20</td>\n",
       "      <td>4.23</td>\n",
       "      <td>2.63</td>\n",
       "    </tr>\n",
       "    <tr>\n",
       "      <th>4</th>\n",
       "      <td>0.31</td>\n",
       "      <td>Good</td>\n",
       "      <td>J</td>\n",
       "      <td>SI2</td>\n",
       "      <td>63.3</td>\n",
       "      <td>58.0</td>\n",
       "      <td>335</td>\n",
       "      <td>4.34</td>\n",
       "      <td>4.35</td>\n",
       "      <td>2.75</td>\n",
       "    </tr>\n",
       "  </tbody>\n",
       "</table>\n",
       "</div>"
      ],
      "text/plain": [
       "   carat      cut color clarity  depth  table  price     x     y     z\n",
       "0   0.23    Ideal     E     SI2   61.5   55.0    326  3.95  3.98  2.43\n",
       "1   0.21  Premium     E     SI1   59.8   61.0    326  3.89  3.84  2.31\n",
       "2   0.23     Good     E     VS1   56.9   65.0    327  4.05  4.07  2.31\n",
       "3   0.29  Premium     I     VS2   62.4   58.0    334  4.20  4.23  2.63\n",
       "4   0.31     Good     J     SI2   63.3   58.0    335  4.34  4.35  2.75"
      ]
     },
     "execution_count": 7,
     "metadata": {},
     "output_type": "execute_result"
    }
   ],
   "source": [
    "data.head()"
   ]
  },
  {
   "cell_type": "markdown",
   "id": "fd07c230",
   "metadata": {},
   "source": [
    "# Графики"
   ]
  },
  {
   "cell_type": "markdown",
   "id": "d4815898",
   "metadata": {},
   "source": [
    "***Берём данные из поля \"price\"***"
   ]
  },
  {
   "cell_type": "code",
   "execution_count": 8,
   "id": "0706f89e",
   "metadata": {},
   "outputs": [
    {
     "data": {
      "image/png": "[encoded data removed]",
      "text/plain": [
       "<Figure size 432x288 with 1 Axes>"
      ]
     },
     "metadata": {
      "needs_background": "light"
     },
     "output_type": "display_data"
    }
   ],
   "source": [
    "plt.hist(data[\"price\"], bins = 150)\n",
    "\n",
    "# Добавляем заголовок\n",
    "plt.title(\"Частотный график: Цены на бриллианты\\n\", fontdict={'fontsize': 20, 'fontweight': 20, 'color': 'Green'})\n",
    "\n",
    "# Делаем наименование осей\n",
    "plt.xlabel(\"Цена\", fontdict={'fontsize': 12, 'fontweight': 20, 'color': 'Brown'})\n",
    "plt.ylabel(\"Кличество\", fontdict={'fontsize': 12, 'fontweight': 20, 'color': 'Brown'})\n",
    "                                  \n",
    "# Выводим график\n",
    "plt.show()\n"
   ]
  },
  {
   "cell_type": "markdown",
   "id": "ecf4ffd9",
   "metadata": {},
   "source": [
    "***Сгруппируем данные по огранке бриллиантов***"
   ]
  },
  {
   "cell_type": "code",
   "execution_count": 9,
   "id": "7e3918b3",
   "metadata": {},
   "outputs": [
    {
     "data": {
      "image/png": "[encoded data removed]",
      "text/plain": [
       "<Figure size 432x288 with 1 Axes>"
      ]
     },
     "metadata": {
      "needs_background": "light"
     },
     "output_type": "display_data"
    }
   ],
   "source": [
    "groupdata = data.groupby(\"cut\").count()\n",
    "groupdata\n",
    "\n",
    "x_vals = []\n",
    "y_vals = []\n",
    "for i in [0, 1, 4, 3, 2]:\n",
    "    x_vals.append(groupdata.index[i])\n",
    "    y_vals.append(groupdata.iloc[i,0])\n",
    "    \n",
    "plt.bar(x_vals, y_vals)\n",
    "\n",
    "# Добавляем заголовок\n",
    "plt.title(\"Частотный график: Огранка на бриллиантов\\n\", fontdict={'fontsize': 20, 'fontweight': 20, 'color': 'Green'})\n",
    "\n",
    "# Делаем наименование осей\n",
    "plt.xlabel(\"Огранка\", fontdict={'fontsize': 12, 'fontweight': 20, 'color': 'Brown'})\n",
    "plt.ylabel(\"Кличество\", fontdict={'fontsize': 12, 'fontweight': 20, 'color': 'Brown'})\n",
    "\n",
    "# Выводим график\n",
    "plt.show()"
   ]
  },
  {
   "cell_type": "markdown",
   "id": "10cd118c",
   "metadata": {},
   "source": [
    "# Машинное обучение. Библиотека scikit-learn"
   ]
  },
  {
   "cell_type": "markdown",
   "id": "71906d39",
   "metadata": {},
   "source": [
    "***y = x1 + 2*x2 + 3*x3***"
   ]
  },
  {
   "cell_type": "code",
   "execution_count": 10,
   "id": "2170157b",
   "metadata": {},
   "outputs": [],
   "source": [
    "from random import randint\n",
    "from sklearn.linear_model import LinearRegression"
   ]
  },
  {
   "cell_type": "markdown",
   "id": "9325481f",
   "metadata": {},
   "source": [
    "***Создание тренировочного набора данных***"
   ]
  },
  {
   "cell_type": "code",
   "execution_count": 11,
   "id": "6567a457",
   "metadata": {},
   "outputs": [
    {
     "name": "stdout",
     "output_type": "stream",
     "text": [
      "[263, 728, 66] 1917\n",
      "[1000, 165, 323] 2299\n",
      "[132, 360, 239] 1569\n",
      "[776, 79, 757] 3205\n",
      "[176, 242, 524] 2232\n",
      "[808, 471, 514] 3292\n",
      "[3, 579, 72] 1377\n",
      "[806, 578, 498] 3456\n",
      "[170, 149, 752] 2724\n",
      "[756, 243, 450] 2592\n",
      "[166, 878, 385] 3077\n",
      "[577, 768, 4] 2125\n",
      "[612, 450, 385] 2667\n",
      "[715, 520, 586] 3513\n",
      "[230, 371, 88] 1236\n",
      "[865, 20, 894] 3587\n",
      "[543, 12, 290] 1437\n",
      "[61, 31, 251] 876\n",
      "[198, 909, 656] 3984\n",
      "[12, 27, 393] 1245\n"
     ]
    }
   ],
   "source": [
    "train_set_limit = 1000\n",
    "train_set_count = 100\n",
    "\n",
    "train_input = list()\n",
    "train_output = list()\n",
    "for i in range(train_set_count):\n",
    "    a = randint(0, train_set_limit)\n",
    "    b = randint(0, train_set_limit)\n",
    "    c = randint(0, train_set_limit)\n",
    "    op = a + (2*b) + (3*c)\n",
    "    train_input.append([a, b, c])\n",
    "    train_output.append(op)\n",
    "    \n",
    "for i in range(20):\n",
    "    print(train_input[i], train_output[i])"
   ]
  },
  {
   "cell_type": "markdown",
   "id": "d2bc8657",
   "metadata": {},
   "source": [
    "***Тренировка***"
   ]
  },
  {
   "cell_type": "code",
   "execution_count": 12,
   "id": "d57d19bb",
   "metadata": {},
   "outputs": [
    {
     "data": {
      "text/plain": [
       "LinearRegression()"
      ]
     },
     "execution_count": 12,
     "metadata": {},
     "output_type": "execute_result"
    }
   ],
   "source": [
    "predictor = LinearRegression()\n",
    "predictor.fit(X=train_input, y=train_output)"
   ]
  },
  {
   "cell_type": "markdown",
   "id": "1b0dfa50",
   "metadata": {},
   "source": [
    "***Прогнозирование***"
   ]
  },
  {
   "cell_type": "code",
   "execution_count": 13,
   "id": "980db69c",
   "metadata": {},
   "outputs": [
    {
     "name": "stdout",
     "output_type": "stream",
     "text": [
      "Outcome :  [326.]\n",
      "Coefficients :  [1. 2. 3.]\n"
     ]
    }
   ],
   "source": [
    "x_test = [[18, 46, 72]]\n",
    "outcome = predictor.predict(X=x_test)\n",
    "coefficients = predictor.coef_\n",
    "\n",
    "print('Outcome : ', outcome)\n",
    "print('Coefficients : ', coefficients)"
   ]
  },
  {
   "cell_type": "code",
   "execution_count": null,
   "id": "8f164536",
   "metadata": {},
   "outputs": [],
   "source": []
  }
 ],
 "metadata": {
  "kernelspec": {
   "display_name": "Python 3 (ipykernel)",
   "language": "python",
   "name": "python3"
  },
  "language_info": {
   "codemirror_mode": {
    "name": "ipython",
    "version": 3
   },
   "file_extension": ".py",
   "mimetype": "text/x-python",
   "name": "python",
   "nbconvert_exporter": "python",
   "pygments_lexer": "ipython3",
   "version": "3.9.6"
  }
 },
 "nbformat": 4,
 "nbformat_minor": 5
}
