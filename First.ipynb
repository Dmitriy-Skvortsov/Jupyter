{
 "cells": [
  {
   "cell_type": "markdown",
   "id": "c7e6b899",
   "metadata": {},
   "source": [
    "# Мой первый файл Jupyter Notebook"
   ]
  },
  {
   "cell_type": "code",
   "execution_count": 1,
   "id": "d3504cfa",
   "metadata": {},
   "outputs": [
    {
     "name": "stdout",
     "output_type": "stream",
     "text": [
      "Hello World!\n"
     ]
    }
   ],
   "source": [
    "print(\"Hello World!\")"
   ]
  },
  {
   "cell_type": "code",
   "execution_count": 2,
   "id": "88823ccb",
   "metadata": {},
   "outputs": [
    {
     "data": {
      "text/plain": [
       "4"
      ]
     },
     "execution_count": 2,
     "metadata": {},
     "output_type": "execute_result"
    }
   ],
   "source": [
    "2+2"
   ]
  },
  {
   "cell_type": "markdown",
   "id": "dd519fc7",
   "metadata": {},
   "source": [
    "# Добавил Chatbot\n"
   ]
  },
  {
   "cell_type": "code",
   "execution_count": 1,
   "id": "f26cb235",
   "metadata": {},
   "outputs": [],
   "source": [
    "import nltk\n",
    "import random"
   ]
  },
  {
   "cell_type": "code",
   "execution_count": 2,
   "id": "742ba36b",
   "metadata": {},
   "outputs": [],
   "source": [
    "BOT_CONFIG = {\n",
    "    'intents': {\n",
    "        'hello': {\n",
    "            'examples': ['Привет!', 'Здравсвуйте!))', 'Хай!!'],\n",
    "            'responses': ['Прив!', 'Хеллоу', 'Как жизнь?']\n",
    "        },\n",
    "        'bye': {\n",
    "            'examples': ['Пока!', 'До свиданья!', 'Увидимся!!'],\n",
    "            'responses': ['Чао!', 'Будь здоров', 'Сайонара']\n",
    "        }\n",
    "    },\n",
    "    'default_answers': ['Извините, я тупой', 'Переформулируйте, меня еще не обучили']\n",
    "} # \"знания\" бота"
   ]
  },
  {
   "cell_type": "code",
   "execution_count": 3,
   "id": "06fce120",
   "metadata": {},
   "outputs": [],
   "source": [
    "def cleaner(text): # функция очистки текста\n",
    "    cleaned_text = ''\n",
    "    for ch in text.lower():\n",
    "        if ch in 'абвгдеёжзийклмнопрстуфхцчшщъыьэюя ':\n",
    "            cleaned_text = cleaned_text + ch\n",
    "    return cleaned_text\n",
    "\n",
    "def match(text, example): # гибкая функция сравнения текстов\n",
    "    return nltk.edit_distance(text, example) / len(example) < 0.4\n",
    "\n",
    "def get_intent(text): # функция определения интента текста\n",
    "    for intent in BOT_CONFIG['intents']:\n",
    "        for example in BOT_CONFIG['intents'][intent]['examples']:\n",
    "             if match(cleaner(text), cleaner(example)):\n",
    "                  return intent\n",
    "\n",
    "def bot(text): # функция бота\n",
    "    intent = get_intent(text)  # 1. попытаться понять намерение\n",
    "    if intent is not None:\n",
    "        return random.choice(BOT_CONFIG['intents'][intent]['responses']) # 2. если удалось, ответить в соответствии намерением\n",
    "    else:\n",
    "        return random.choice(BOT_CONFIG['default_answers']) # 3. если не удалось, ответить заглушкой"
   ]
  },
  {
   "cell_type": "code",
   "execution_count": null,
   "id": "2dedc573",
   "metadata": {},
   "outputs": [
    {
     "name": "stdout",
     "output_type": "stream",
     "text": [
      "Здравствуйте\n",
      "Хеллоу\n",
      "Как успехи?\n",
      "Переформулируйте, меня еще не обучили\n",
      "Всё хорошо?\n",
      "Извините, я тупой\n",
      "Не важно\n",
      "Переформулируйте, меня еще не обучили\n"
     ]
    }
   ],
   "source": [
    "question = ''\n",
    "while question not in ['выход', 'выключайся']:\n",
    "    question = input()\n",
    "    answer = bot(question)\n",
    "    print(answer)"
   ]
  }
 ],
 "metadata": {
  "kernelspec": {
   "display_name": "Python 3 (ipykernel)",
   "language": "python",
   "name": "python3"
  },
  "language_info": {
   "codemirror_mode": {
    "name": "ipython",
    "version": 3
   },
   "file_extension": ".py",
   "mimetype": "text/x-python",
   "name": "python",
   "nbconvert_exporter": "python",
   "pygments_lexer": "ipython3",
   "version": "3.9.6"
  }
 },
 "nbformat": 4,
 "nbformat_minor": 5
}
